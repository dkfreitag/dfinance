{
 "cells": [
  {
   "cell_type": "markdown",
   "metadata": {},
   "source": [
    "# Training the model to predict a stock price increase in the next 10 days\n",
    "https://www.analyticsvidhya.com/blog/2021/08/complete-guide-on-how-to-use-lightgbm-in-python/"
   ]
  },
  {
   "cell_type": "code",
   "execution_count": 31,
   "metadata": {},
   "outputs": [],
   "source": [
    "import pandas as pd\n",
    "import numpy as np\n",
    "import lightgbm as lgb\n",
    "import yfinance as yf\n",
    "import matplotlib.pyplot as plt\n",
    "from sklearn import metrics\n",
    "import pickle\n",
    "\n",
    "import talib\n",
    "from talib.abstract import *\n",
    "\n",
    "import warnings\n",
    "warnings.filterwarnings('ignore')"
   ]
  },
  {
   "cell_type": "code",
   "execution_count": 32,
   "metadata": {},
   "outputs": [],
   "source": [
    "# Create the target variable\n",
    "\n",
    "# pick a number of days divisble by 3 and add 10, since we will do a 66/33 test/train split\n",
    "days_of_data = 310\n",
    "data = yf.download(tickers='HOG', period=f'{days_of_data}d', progress=False)\n",
    "\n",
    "# Code the target variable 1 for a day if the price goes above\n",
    "# that day's price * 1.05 (5% increase) any day in the next 10 days.\n",
    "data['target'] = 0\n",
    "for d in range(0, days_of_data - 10):\n",
    "    close_day_zero = data.iloc[d][3]\n",
    "\n",
    "    # look at the next 10 days\n",
    "    for i in range (d+1, d+10):\n",
    "        # get closing price on that day\n",
    "        close_day_i = data.iloc[i][3]\n",
    "        # if closing price on that day > closing price * 1.05 on initial day,\n",
    "        # then set target = 1 for the initial day\n",
    "        if close_day_i > close_day_zero * 1.05:\n",
    "            data.iloc[d:d+1, 6] = 1\n",
    "        \n",
    "# truncate so we just have the first set of rows, since we can't code the last 10\n",
    "data = data.head(days_of_data - 10)"
   ]
  },
  {
   "cell_type": "code",
   "execution_count": 33,
   "metadata": {},
   "outputs": [
    {
     "data": {
      "text/plain": [
       "0    189\n",
       "1    111\n",
       "Name: target, dtype: int64"
      ]
     },
     "execution_count": 33,
     "metadata": {},
     "output_type": "execute_result"
    }
   ],
   "source": [
    "# check distribution of 0 vs. 1\n",
    "data['target'].value_counts()"
   ]
  },
  {
   "cell_type": "code",
   "execution_count": 34,
   "metadata": {},
   "outputs": [
    {
     "data": {
      "text/html": [
       "<div>\n",
       "<style scoped>\n",
       "    .dataframe tbody tr th:only-of-type {\n",
       "        vertical-align: middle;\n",
       "    }\n",
       "\n",
       "    .dataframe tbody tr th {\n",
       "        vertical-align: top;\n",
       "    }\n",
       "\n",
       "    .dataframe thead th {\n",
       "        text-align: right;\n",
       "    }\n",
       "</style>\n",
       "<table border=\"1\" class=\"dataframe\">\n",
       "  <thead>\n",
       "    <tr style=\"text-align: right;\">\n",
       "      <th></th>\n",
       "      <th>Open</th>\n",
       "      <th>High</th>\n",
       "      <th>Low</th>\n",
       "      <th>Close</th>\n",
       "      <th>Adj Close</th>\n",
       "      <th>Volume</th>\n",
       "      <th>sma_10</th>\n",
       "      <th>sma_20</th>\n",
       "      <th>sma_30</th>\n",
       "    </tr>\n",
       "    <tr>\n",
       "      <th>Date</th>\n",
       "      <th></th>\n",
       "      <th></th>\n",
       "      <th></th>\n",
       "      <th></th>\n",
       "      <th></th>\n",
       "      <th></th>\n",
       "      <th></th>\n",
       "      <th></th>\n",
       "      <th></th>\n",
       "    </tr>\n",
       "  </thead>\n",
       "  <tbody>\n",
       "    <tr>\n",
       "      <th>2020-10-29</th>\n",
       "      <td>34.080002</td>\n",
       "      <td>34.450001</td>\n",
       "      <td>33.490002</td>\n",
       "      <td>33.869999</td>\n",
       "      <td>33.336102</td>\n",
       "      <td>2998600</td>\n",
       "      <td>NaN</td>\n",
       "      <td>NaN</td>\n",
       "      <td>NaN</td>\n",
       "    </tr>\n",
       "    <tr>\n",
       "      <th>2020-10-30</th>\n",
       "      <td>33.549999</td>\n",
       "      <td>33.959999</td>\n",
       "      <td>32.180000</td>\n",
       "      <td>32.880001</td>\n",
       "      <td>32.361710</td>\n",
       "      <td>2958900</td>\n",
       "      <td>NaN</td>\n",
       "      <td>NaN</td>\n",
       "      <td>NaN</td>\n",
       "    </tr>\n",
       "    <tr>\n",
       "      <th>2020-11-02</th>\n",
       "      <td>32.689999</td>\n",
       "      <td>33.849998</td>\n",
       "      <td>32.529999</td>\n",
       "      <td>33.040001</td>\n",
       "      <td>32.519188</td>\n",
       "      <td>1958500</td>\n",
       "      <td>NaN</td>\n",
       "      <td>NaN</td>\n",
       "      <td>NaN</td>\n",
       "    </tr>\n",
       "    <tr>\n",
       "      <th>2020-11-03</th>\n",
       "      <td>33.689999</td>\n",
       "      <td>33.900002</td>\n",
       "      <td>33.119999</td>\n",
       "      <td>33.330002</td>\n",
       "      <td>32.804619</td>\n",
       "      <td>1568600</td>\n",
       "      <td>NaN</td>\n",
       "      <td>NaN</td>\n",
       "      <td>NaN</td>\n",
       "    </tr>\n",
       "    <tr>\n",
       "      <th>2020-11-04</th>\n",
       "      <td>33.130001</td>\n",
       "      <td>33.200001</td>\n",
       "      <td>32.320000</td>\n",
       "      <td>32.810001</td>\n",
       "      <td>32.292812</td>\n",
       "      <td>1894100</td>\n",
       "      <td>NaN</td>\n",
       "      <td>NaN</td>\n",
       "      <td>NaN</td>\n",
       "    </tr>\n",
       "    <tr>\n",
       "      <th>...</th>\n",
       "      <td>...</td>\n",
       "      <td>...</td>\n",
       "      <td>...</td>\n",
       "      <td>...</td>\n",
       "      <td>...</td>\n",
       "      <td>...</td>\n",
       "      <td>...</td>\n",
       "      <td>...</td>\n",
       "      <td>...</td>\n",
       "    </tr>\n",
       "    <tr>\n",
       "      <th>2021-12-31</th>\n",
       "      <td>37.480000</td>\n",
       "      <td>37.910000</td>\n",
       "      <td>37.130001</td>\n",
       "      <td>37.689999</td>\n",
       "      <td>37.689999</td>\n",
       "      <td>822300</td>\n",
       "      <td>36.475001</td>\n",
       "      <td>37.0165</td>\n",
       "      <td>37.291667</td>\n",
       "    </tr>\n",
       "    <tr>\n",
       "      <th>2022-01-03</th>\n",
       "      <td>37.880001</td>\n",
       "      <td>38.139999</td>\n",
       "      <td>37.560001</td>\n",
       "      <td>37.700001</td>\n",
       "      <td>37.700001</td>\n",
       "      <td>1148800</td>\n",
       "      <td>36.604001</td>\n",
       "      <td>37.0760</td>\n",
       "      <td>37.282667</td>\n",
       "    </tr>\n",
       "    <tr>\n",
       "      <th>2022-01-04</th>\n",
       "      <td>38.080002</td>\n",
       "      <td>39.189999</td>\n",
       "      <td>38.080002</td>\n",
       "      <td>39.029999</td>\n",
       "      <td>39.029999</td>\n",
       "      <td>1457800</td>\n",
       "      <td>36.999001</td>\n",
       "      <td>37.1435</td>\n",
       "      <td>37.337334</td>\n",
       "    </tr>\n",
       "    <tr>\n",
       "      <th>2022-01-05</th>\n",
       "      <td>39.000000</td>\n",
       "      <td>39.939999</td>\n",
       "      <td>38.320000</td>\n",
       "      <td>38.439999</td>\n",
       "      <td>38.439999</td>\n",
       "      <td>1842200</td>\n",
       "      <td>37.318000</td>\n",
       "      <td>37.1485</td>\n",
       "      <td>37.311000</td>\n",
       "    </tr>\n",
       "    <tr>\n",
       "      <th>2022-01-06</th>\n",
       "      <td>38.680000</td>\n",
       "      <td>39.040001</td>\n",
       "      <td>37.919998</td>\n",
       "      <td>38.860001</td>\n",
       "      <td>38.860001</td>\n",
       "      <td>1593100</td>\n",
       "      <td>37.663000</td>\n",
       "      <td>37.1955</td>\n",
       "      <td>37.296000</td>\n",
       "    </tr>\n",
       "  </tbody>\n",
       "</table>\n",
       "<p>300 rows × 9 columns</p>\n",
       "</div>"
      ],
      "text/plain": [
       "                 Open       High        Low      Close  Adj Close   Volume  \\\n",
       "Date                                                                         \n",
       "2020-10-29  34.080002  34.450001  33.490002  33.869999  33.336102  2998600   \n",
       "2020-10-30  33.549999  33.959999  32.180000  32.880001  32.361710  2958900   \n",
       "2020-11-02  32.689999  33.849998  32.529999  33.040001  32.519188  1958500   \n",
       "2020-11-03  33.689999  33.900002  33.119999  33.330002  32.804619  1568600   \n",
       "2020-11-04  33.130001  33.200001  32.320000  32.810001  32.292812  1894100   \n",
       "...               ...        ...        ...        ...        ...      ...   \n",
       "2021-12-31  37.480000  37.910000  37.130001  37.689999  37.689999   822300   \n",
       "2022-01-03  37.880001  38.139999  37.560001  37.700001  37.700001  1148800   \n",
       "2022-01-04  38.080002  39.189999  38.080002  39.029999  39.029999  1457800   \n",
       "2022-01-05  39.000000  39.939999  38.320000  38.439999  38.439999  1842200   \n",
       "2022-01-06  38.680000  39.040001  37.919998  38.860001  38.860001  1593100   \n",
       "\n",
       "               sma_10   sma_20     sma_30  \n",
       "Date                                       \n",
       "2020-10-29        NaN      NaN        NaN  \n",
       "2020-10-30        NaN      NaN        NaN  \n",
       "2020-11-02        NaN      NaN        NaN  \n",
       "2020-11-03        NaN      NaN        NaN  \n",
       "2020-11-04        NaN      NaN        NaN  \n",
       "...               ...      ...        ...  \n",
       "2021-12-31  36.475001  37.0165  37.291667  \n",
       "2022-01-03  36.604001  37.0760  37.282667  \n",
       "2022-01-04  36.999001  37.1435  37.337334  \n",
       "2022-01-05  37.318000  37.1485  37.311000  \n",
       "2022-01-06  37.663000  37.1955  37.296000  \n",
       "\n",
       "[300 rows x 9 columns]"
      ]
     },
     "execution_count": 34,
     "metadata": {},
     "output_type": "execute_result"
    }
   ],
   "source": [
    "###############################################\n",
    "# attach additional features to each row here #\n",
    "###############################################\n",
    "\n",
    "# set up running_df\n",
    "running_df = pd.DataFrame([], columns=['Date', 'Open', 'High', 'Low', 'Close', 'Adj Close', 'Volume'])\n",
    "running_df.index = running_df['Date']\n",
    "running_df.drop(columns=['Date'], inplace=True)\n",
    "\n",
    "# add columns\n",
    "running_df['sma_10'] = np.NaN\n",
    "running_df['sma_20'] = np.NaN\n",
    "running_df['sma_30'] = np.NaN\n",
    "\n",
    "for i in range(len(data)):\n",
    "    running_df = running_df.append(data.iloc[i:i+1, 0:6])\n",
    "\n",
    "    if len(running_df) > 10:\n",
    "        running_df.iloc[-1:-2:-1, 6] = SMA(running_df.iloc[-1:-11:-1]['Close'].values, timeperiod=10)[-1]\n",
    "\n",
    "    if len(running_df) > 20:\n",
    "        running_df.iloc[-1:-2:-1, 7] = SMA(running_df.iloc[-1:-21:-1]['Close'].values, timeperiod=20)[-1]\n",
    "\n",
    "    if len(running_df) > 30:\n",
    "        running_df.iloc[-1:-2:-1, 8] = SMA(running_df.iloc[-1:-31:-1]['Close'].values, timeperiod=30)[-1]\n",
    "\n",
    "running_df"
   ]
  },
  {
   "cell_type": "code",
   "execution_count": 43,
   "metadata": {},
   "outputs": [
    {
     "name": "stdout",
     "output_type": "stream",
     "text": [
      "<class 'pandas.core.frame.DataFrame'>\n",
      "DatetimeIndex: 300 entries, 2020-10-29 to 2022-01-06\n",
      "Data columns (total 9 columns):\n",
      " #   Column     Non-Null Count  Dtype  \n",
      "---  ------     --------------  -----  \n",
      " 0   Open       300 non-null    float64\n",
      " 1   High       300 non-null    float64\n",
      " 2   Low        300 non-null    float64\n",
      " 3   Close      300 non-null    float64\n",
      " 4   Adj Close  300 non-null    float64\n",
      " 5   Volume     300 non-null    object \n",
      " 6   sma_10     290 non-null    float64\n",
      " 7   sma_20     280 non-null    float64\n",
      " 8   sma_30     270 non-null    float64\n",
      "dtypes: float64(8), object(1)\n",
      "memory usage: 23.4+ KB\n"
     ]
    }
   ],
   "source": [
    "# check column types\n",
    "running_df.info(verbose=True)"
   ]
  },
  {
   "cell_type": "code",
   "execution_count": 45,
   "metadata": {},
   "outputs": [],
   "source": [
    "# convert Volume to numeric because it changed to object for some reason\n",
    "running_df['Volume'] = pd.to_numeric(running_df.Volume)"
   ]
  },
  {
   "cell_type": "code",
   "execution_count": 46,
   "metadata": {},
   "outputs": [
    {
     "name": "stdout",
     "output_type": "stream",
     "text": [
      "<class 'pandas.core.frame.DataFrame'>\n",
      "DatetimeIndex: 300 entries, 2020-10-29 to 2022-01-06\n",
      "Data columns (total 9 columns):\n",
      " #   Column     Non-Null Count  Dtype  \n",
      "---  ------     --------------  -----  \n",
      " 0   Open       300 non-null    float64\n",
      " 1   High       300 non-null    float64\n",
      " 2   Low        300 non-null    float64\n",
      " 3   Close      300 non-null    float64\n",
      " 4   Adj Close  300 non-null    float64\n",
      " 5   Volume     300 non-null    int64  \n",
      " 6   sma_10     290 non-null    float64\n",
      " 7   sma_20     280 non-null    float64\n",
      " 8   sma_30     270 non-null    float64\n",
      "dtypes: float64(8), int64(1)\n",
      "memory usage: 23.4 KB\n"
     ]
    }
   ],
   "source": [
    "running_df.info(verbose=True)"
   ]
  },
  {
   "cell_type": "code",
   "execution_count": 47,
   "metadata": {},
   "outputs": [],
   "source": [
    "# 66/33 test/train split\n",
    "train_days = int((days_of_data - 10) / 3 * 2)\n",
    "test_days = int(train_days / 2)\n",
    "\n",
    "x_train = running_df.head(train_days)\n",
    "y_train = data['target'].head(train_days)\n",
    "\n",
    "x_test = running_df.tail(test_days)\n",
    "y_test = data['target'].tail(test_days)"
   ]
  },
  {
   "cell_type": "code",
   "execution_count": 48,
   "metadata": {},
   "outputs": [
    {
     "name": "stdout",
     "output_type": "stream",
     "text": [
      "[20]\ttraining's binary_logloss: 0.105328\tvalid_0's binary_logloss: 0.958168\n",
      "[40]\ttraining's binary_logloss: 0.0308243\tvalid_0's binary_logloss: 1.32037\n",
      "[60]\ttraining's binary_logloss: 0.00995222\tvalid_0's binary_logloss: 1.58095\n",
      "[80]\ttraining's binary_logloss: 0.00329617\tvalid_0's binary_logloss: 2.08591\n",
      "[100]\ttraining's binary_logloss: 0.00110621\tvalid_0's binary_logloss: 2.16839\n"
     ]
    },
    {
     "data": {
      "text/plain": [
       "LGBMClassifier(learning_rate=0.5, max_depth=5, random_state=42)"
      ]
     },
     "execution_count": 48,
     "metadata": {},
     "output_type": "execute_result"
    }
   ],
   "source": [
    "# train the model\n",
    "model = lgb.LGBMClassifier(learning_rate=0.5,max_depth=5,random_state=42)\n",
    "\n",
    "model.fit(x_train,y_train,eval_set=[(x_test,y_test),(x_train,y_train)],\n",
    "          verbose=20,eval_metric='logloss')"
   ]
  },
  {
   "cell_type": "code",
   "execution_count": 49,
   "metadata": {},
   "outputs": [
    {
     "name": "stdout",
     "output_type": "stream",
     "text": [
      "Training accuracy 1.0000\n",
      "Testing accuracy 0.5900\n"
     ]
    }
   ],
   "source": [
    "# evaluate model accuracy\n",
    "print('Training accuracy {:.4f}'.format(model.score(x_train,y_train)))\n",
    "print('Testing accuracy {:.4f}'.format(model.score(x_test,y_test)))"
   ]
  },
  {
   "cell_type": "code",
   "execution_count": 50,
   "metadata": {},
   "outputs": [
    {
     "data": {
      "text/plain": [
       "<AxesSubplot:title={'center':'Feature importance'}, xlabel='Feature importance', ylabel='Features'>"
      ]
     },
     "execution_count": 50,
     "metadata": {},
     "output_type": "execute_result"
    },
    {
     "data": {
      "image/png": "[encoded data removed]",
      "text/plain": [
       "<Figure size 432x288 with 1 Axes>"
      ]
     },
     "metadata": {
      "needs_background": "light"
     },
     "output_type": "display_data"
    }
   ],
   "source": [
    "lgb.plot_importance(model)"
   ]
  },
  {
   "cell_type": "code",
   "execution_count": 51,
   "metadata": {},
   "outputs": [
    {
     "data": {
      "text/plain": [
       "<AxesSubplot:title={'center':'Metric during training'}, xlabel='Iterations', ylabel='binary_logloss'>"
      ]
     },
     "execution_count": 51,
     "metadata": {},
     "output_type": "execute_result"
    },
    {
     "data": {
      "image/png": "[encoded data removed]",
      "text/plain": [
       "<Figure size 432x288 with 1 Axes>"
      ]
     },
     "metadata": {
      "needs_background": "light"
     },
     "output_type": "display_data"
    }
   ],
   "source": [
    "lgb.plot_metric(model)"
   ]
  },
  {
   "cell_type": "code",
   "execution_count": 52,
   "metadata": {},
   "outputs": [
    {
     "data": {
      "text/plain": [
       "<sklearn.metrics._plot.confusion_matrix.ConfusionMatrixDisplay at 0x1206b7310>"
      ]
     },
     "execution_count": 52,
     "metadata": {},
     "output_type": "execute_result"
    },
    {
     "data": {
      "image/png": "[encoded data removed]",
      "text/plain": [
       "<Figure size 432x288 with 2 Axes>"
      ]
     },
     "metadata": {
      "needs_background": "light"
     },
     "output_type": "display_data"
    }
   ],
   "source": [
    "metrics.plot_confusion_matrix(model,x_test,y_test,cmap='Blues_r')"
   ]
  },
  {
   "cell_type": "code",
   "execution_count": 53,
   "metadata": {},
   "outputs": [
    {
     "name": "stdout",
     "output_type": "stream",
     "text": [
      "              precision    recall  f1-score   support\n",
      "\n",
      "           0       0.95      0.49      0.64        76\n",
      "           1       0.36      0.92      0.52        24\n",
      "\n",
      "    accuracy                           0.59       100\n",
      "   macro avg       0.65      0.70      0.58       100\n",
      "weighted avg       0.81      0.59      0.61       100\n",
      "\n"
     ]
    }
   ],
   "source": [
    "print(metrics.classification_report(y_test,model.predict(x_test)))"
   ]
  },
  {
   "cell_type": "code",
   "execution_count": 54,
   "metadata": {},
   "outputs": [],
   "source": [
    "pkl_filename = 'lgbm_model.pkl'\n",
    "\n",
    "with open(pkl_filename, 'wb') as file:  \n",
    "    pickle.dump(model, file)"
   ]
  },
  {
   "cell_type": "code",
   "execution_count": null,
   "metadata": {},
   "outputs": [],
   "source": []
  }
 ],
 "metadata": {
  "interpreter": {
   "hash": "6f7fe897ca8af54ce6bcaef56df631b7c61c214ad1194a9ce2f2566706903d5a"
  },
  "kernelspec": {
   "display_name": "Python 3.10.1 64-bit ('dfinance_proj_env': venv)",
   "language": "python",
   "name": "python3"
  },
  "language_info": {
   "codemirror_mode": {
    "name": "ipython",
    "version": 3
   },
   "file_extension": ".py",
   "mimetype": "text/x-python",
   "name": "python",
   "nbconvert_exporter": "python",
   "pygments_lexer": "ipython3",
   "version": "3.10.1"
  },
  "orig_nbformat": 4
 },
 "nbformat": 4,
 "nbformat_minor": 2
}
