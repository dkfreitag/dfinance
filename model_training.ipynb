{
 "cells": [
  {
   "cell_type": "markdown",
   "metadata": {},
   "source": [
    "# Training the model to predict a stock price increase in the next 10 days\n",
    "https://www.analyticsvidhya.com/blog/2021/08/complete-guide-on-how-to-use-lightgbm-in-python/"
   ]
  },
  {
   "cell_type": "code",
   "execution_count": 348,
   "metadata": {},
   "outputs": [],
   "source": [
    "import pandas as pd\n",
    "import numpy as np\n",
    "import lightgbm as lgb\n",
    "import yfinance as yf\n",
    "import matplotlib.pyplot as plt\n",
    "from sklearn import metrics\n",
    "from sklearn.metrics import accuracy_score, recall_score\n",
    "from sklearn.model_selection import RandomizedSearchCV\n",
    "import pickle\n",
    "import time\n",
    "\n",
    "import talib\n",
    "from talib.abstract import *\n",
    "\n",
    "import warnings\n",
    "warnings.filterwarnings('ignore')"
   ]
  },
  {
   "cell_type": "code",
   "execution_count": 340,
   "metadata": {},
   "outputs": [],
   "source": [
    "# Create the target variable\n",
    "\n",
    "# pick a number of days that can be split evenly 80/20 and add 10\n",
    "days_of_data = 510\n",
    "data = yf.download(tickers='HOG', period=f'{days_of_data}d', progress=False)\n",
    "\n",
    "# Code the target variable 1 for a day if the price goes above\n",
    "# that day's price * 1.05 (5% increase) any day in the next 10 days.\n",
    "data['target'] = 0\n",
    "for d in range(0, days_of_data - 10):\n",
    "    close_day_zero = data.iloc[d][3]\n",
    "\n",
    "    # look at the next 10 days\n",
    "    for i in range (d+1, d+10):\n",
    "        # get closing price on that day\n",
    "        close_day_i = data.iloc[i][3]\n",
    "        # if closing price on that day > closing price * 1.05 on initial day,\n",
    "        # then set target = 1 for the initial day\n",
    "        if close_day_i > close_day_zero * 1.03:\n",
    "            data.iloc[d:d+1, 6] = 1\n",
    "        \n",
    "# truncate so we just have the first set of rows, since we can't code the last 10\n",
    "data = data.head(days_of_data - 10)"
   ]
  },
  {
   "cell_type": "code",
   "execution_count": 341,
   "metadata": {},
   "outputs": [
    {
     "data": {
      "text/plain": [
       "1    283\n",
       "0    217\n",
       "Name: target, dtype: int64"
      ]
     },
     "execution_count": 341,
     "metadata": {},
     "output_type": "execute_result"
    }
   ],
   "source": [
    "# check distribution of 0 vs. 1\n",
    "data['target'].value_counts()"
   ]
  },
  {
   "cell_type": "code",
   "execution_count": 342,
   "metadata": {},
   "outputs": [
    {
     "data": {
      "text/html": [
       "<div>\n",
       "<style scoped>\n",
       "    .dataframe tbody tr th:only-of-type {\n",
       "        vertical-align: middle;\n",
       "    }\n",
       "\n",
       "    .dataframe tbody tr th {\n",
       "        vertical-align: top;\n",
       "    }\n",
       "\n",
       "    .dataframe thead th {\n",
       "        text-align: right;\n",
       "    }\n",
       "</style>\n",
       "<table border=\"1\" class=\"dataframe\">\n",
       "  <thead>\n",
       "    <tr style=\"text-align: right;\">\n",
       "      <th></th>\n",
       "      <th>Open</th>\n",
       "      <th>High</th>\n",
       "      <th>Low</th>\n",
       "      <th>Close</th>\n",
       "      <th>Adj Close</th>\n",
       "      <th>Volume</th>\n",
       "      <th>sma_10</th>\n",
       "      <th>sma_20</th>\n",
       "      <th>sma_30</th>\n",
       "      <th>macd</th>\n",
       "      <th>macdsignal</th>\n",
       "      <th>macdhist</th>\n",
       "      <th>rsi</th>\n",
       "    </tr>\n",
       "    <tr>\n",
       "      <th>Date</th>\n",
       "      <th></th>\n",
       "      <th></th>\n",
       "      <th></th>\n",
       "      <th></th>\n",
       "      <th></th>\n",
       "      <th></th>\n",
       "      <th></th>\n",
       "      <th></th>\n",
       "      <th></th>\n",
       "      <th></th>\n",
       "      <th></th>\n",
       "      <th></th>\n",
       "      <th></th>\n",
       "    </tr>\n",
       "  </thead>\n",
       "  <tbody>\n",
       "    <tr>\n",
       "      <th>2020-01-16</th>\n",
       "      <td>35.639999</td>\n",
       "      <td>36.090000</td>\n",
       "      <td>35.619999</td>\n",
       "      <td>35.759998</td>\n",
       "      <td>34.683784</td>\n",
       "      <td>867600</td>\n",
       "      <td>NaN</td>\n",
       "      <td>NaN</td>\n",
       "      <td>NaN</td>\n",
       "      <td>NaN</td>\n",
       "      <td>NaN</td>\n",
       "      <td>NaN</td>\n",
       "      <td>NaN</td>\n",
       "    </tr>\n",
       "    <tr>\n",
       "      <th>2020-01-17</th>\n",
       "      <td>35.869999</td>\n",
       "      <td>36.169998</td>\n",
       "      <td>35.389999</td>\n",
       "      <td>35.720001</td>\n",
       "      <td>34.644985</td>\n",
       "      <td>1177000</td>\n",
       "      <td>NaN</td>\n",
       "      <td>NaN</td>\n",
       "      <td>NaN</td>\n",
       "      <td>NaN</td>\n",
       "      <td>NaN</td>\n",
       "      <td>NaN</td>\n",
       "      <td>NaN</td>\n",
       "    </tr>\n",
       "    <tr>\n",
       "      <th>2020-01-21</th>\n",
       "      <td>35.540001</td>\n",
       "      <td>35.709999</td>\n",
       "      <td>35.020000</td>\n",
       "      <td>35.169998</td>\n",
       "      <td>34.111538</td>\n",
       "      <td>1116500</td>\n",
       "      <td>NaN</td>\n",
       "      <td>NaN</td>\n",
       "      <td>NaN</td>\n",
       "      <td>NaN</td>\n",
       "      <td>NaN</td>\n",
       "      <td>NaN</td>\n",
       "      <td>NaN</td>\n",
       "    </tr>\n",
       "    <tr>\n",
       "      <th>2020-01-22</th>\n",
       "      <td>35.310001</td>\n",
       "      <td>35.349998</td>\n",
       "      <td>34.910000</td>\n",
       "      <td>35.169998</td>\n",
       "      <td>34.111538</td>\n",
       "      <td>1401700</td>\n",
       "      <td>NaN</td>\n",
       "      <td>NaN</td>\n",
       "      <td>NaN</td>\n",
       "      <td>NaN</td>\n",
       "      <td>NaN</td>\n",
       "      <td>NaN</td>\n",
       "      <td>NaN</td>\n",
       "    </tr>\n",
       "    <tr>\n",
       "      <th>2020-01-23</th>\n",
       "      <td>34.919998</td>\n",
       "      <td>35.349998</td>\n",
       "      <td>34.520000</td>\n",
       "      <td>35.250000</td>\n",
       "      <td>34.189129</td>\n",
       "      <td>1731100</td>\n",
       "      <td>NaN</td>\n",
       "      <td>NaN</td>\n",
       "      <td>NaN</td>\n",
       "      <td>NaN</td>\n",
       "      <td>NaN</td>\n",
       "      <td>NaN</td>\n",
       "      <td>NaN</td>\n",
       "    </tr>\n",
       "    <tr>\n",
       "      <th>...</th>\n",
       "      <td>...</td>\n",
       "      <td>...</td>\n",
       "      <td>...</td>\n",
       "      <td>...</td>\n",
       "      <td>...</td>\n",
       "      <td>...</td>\n",
       "      <td>...</td>\n",
       "      <td>...</td>\n",
       "      <td>...</td>\n",
       "      <td>...</td>\n",
       "      <td>...</td>\n",
       "      <td>...</td>\n",
       "      <td>...</td>\n",
       "    </tr>\n",
       "    <tr>\n",
       "      <th>2022-01-03</th>\n",
       "      <td>37.880001</td>\n",
       "      <td>38.139999</td>\n",
       "      <td>37.560001</td>\n",
       "      <td>37.700001</td>\n",
       "      <td>37.700001</td>\n",
       "      <td>1148800</td>\n",
       "      <td>36.604001</td>\n",
       "      <td>37.0760</td>\n",
       "      <td>37.282667</td>\n",
       "      <td>-0.056370</td>\n",
       "      <td>-0.230009</td>\n",
       "      <td>0.173639</td>\n",
       "      <td>53.985284</td>\n",
       "    </tr>\n",
       "    <tr>\n",
       "      <th>2022-01-04</th>\n",
       "      <td>38.080002</td>\n",
       "      <td>39.189999</td>\n",
       "      <td>38.080002</td>\n",
       "      <td>39.029999</td>\n",
       "      <td>39.029999</td>\n",
       "      <td>1457800</td>\n",
       "      <td>36.999001</td>\n",
       "      <td>37.1435</td>\n",
       "      <td>37.337334</td>\n",
       "      <td>0.101312</td>\n",
       "      <td>-0.163745</td>\n",
       "      <td>0.265057</td>\n",
       "      <td>61.668305</td>\n",
       "    </tr>\n",
       "    <tr>\n",
       "      <th>2022-01-05</th>\n",
       "      <td>39.000000</td>\n",
       "      <td>39.939999</td>\n",
       "      <td>38.320000</td>\n",
       "      <td>38.439999</td>\n",
       "      <td>38.439999</td>\n",
       "      <td>1842200</td>\n",
       "      <td>37.318000</td>\n",
       "      <td>37.1485</td>\n",
       "      <td>37.311000</td>\n",
       "      <td>0.176631</td>\n",
       "      <td>-0.095670</td>\n",
       "      <td>0.272301</td>\n",
       "      <td>57.112625</td>\n",
       "    </tr>\n",
       "    <tr>\n",
       "      <th>2022-01-06</th>\n",
       "      <td>38.680000</td>\n",
       "      <td>39.040001</td>\n",
       "      <td>37.919998</td>\n",
       "      <td>38.860001</td>\n",
       "      <td>38.860001</td>\n",
       "      <td>1593100</td>\n",
       "      <td>37.663000</td>\n",
       "      <td>37.1955</td>\n",
       "      <td>37.296000</td>\n",
       "      <td>0.267134</td>\n",
       "      <td>-0.023109</td>\n",
       "      <td>0.290243</td>\n",
       "      <td>59.411313</td>\n",
       "    </tr>\n",
       "    <tr>\n",
       "      <th>2022-01-07</th>\n",
       "      <td>39.119999</td>\n",
       "      <td>39.799999</td>\n",
       "      <td>38.349998</td>\n",
       "      <td>39.709999</td>\n",
       "      <td>39.709999</td>\n",
       "      <td>1762500</td>\n",
       "      <td>38.010000</td>\n",
       "      <td>37.3300</td>\n",
       "      <td>37.326000</td>\n",
       "      <td>0.402803</td>\n",
       "      <td>0.062073</td>\n",
       "      <td>0.340730</td>\n",
       "      <td>63.656781</td>\n",
       "    </tr>\n",
       "  </tbody>\n",
       "</table>\n",
       "<p>500 rows × 13 columns</p>\n",
       "</div>"
      ],
      "text/plain": [
       "                 Open       High        Low      Close  Adj Close   Volume  \\\n",
       "Date                                                                         \n",
       "2020-01-16  35.639999  36.090000  35.619999  35.759998  34.683784   867600   \n",
       "2020-01-17  35.869999  36.169998  35.389999  35.720001  34.644985  1177000   \n",
       "2020-01-21  35.540001  35.709999  35.020000  35.169998  34.111538  1116500   \n",
       "2020-01-22  35.310001  35.349998  34.910000  35.169998  34.111538  1401700   \n",
       "2020-01-23  34.919998  35.349998  34.520000  35.250000  34.189129  1731100   \n",
       "...               ...        ...        ...        ...        ...      ...   \n",
       "2022-01-03  37.880001  38.139999  37.560001  37.700001  37.700001  1148800   \n",
       "2022-01-04  38.080002  39.189999  38.080002  39.029999  39.029999  1457800   \n",
       "2022-01-05  39.000000  39.939999  38.320000  38.439999  38.439999  1842200   \n",
       "2022-01-06  38.680000  39.040001  37.919998  38.860001  38.860001  1593100   \n",
       "2022-01-07  39.119999  39.799999  38.349998  39.709999  39.709999  1762500   \n",
       "\n",
       "               sma_10   sma_20     sma_30      macd  macdsignal  macdhist  \\\n",
       "Date                                                                        \n",
       "2020-01-16        NaN      NaN        NaN       NaN         NaN       NaN   \n",
       "2020-01-17        NaN      NaN        NaN       NaN         NaN       NaN   \n",
       "2020-01-21        NaN      NaN        NaN       NaN         NaN       NaN   \n",
       "2020-01-22        NaN      NaN        NaN       NaN         NaN       NaN   \n",
       "2020-01-23        NaN      NaN        NaN       NaN         NaN       NaN   \n",
       "...               ...      ...        ...       ...         ...       ...   \n",
       "2022-01-03  36.604001  37.0760  37.282667 -0.056370   -0.230009  0.173639   \n",
       "2022-01-04  36.999001  37.1435  37.337334  0.101312   -0.163745  0.265057   \n",
       "2022-01-05  37.318000  37.1485  37.311000  0.176631   -0.095670  0.272301   \n",
       "2022-01-06  37.663000  37.1955  37.296000  0.267134   -0.023109  0.290243   \n",
       "2022-01-07  38.010000  37.3300  37.326000  0.402803    0.062073  0.340730   \n",
       "\n",
       "                  rsi  \n",
       "Date                   \n",
       "2020-01-16        NaN  \n",
       "2020-01-17        NaN  \n",
       "2020-01-21        NaN  \n",
       "2020-01-22        NaN  \n",
       "2020-01-23        NaN  \n",
       "...               ...  \n",
       "2022-01-03  53.985284  \n",
       "2022-01-04  61.668305  \n",
       "2022-01-05  57.112625  \n",
       "2022-01-06  59.411313  \n",
       "2022-01-07  63.656781  \n",
       "\n",
       "[500 rows x 13 columns]"
      ]
     },
     "execution_count": 342,
     "metadata": {},
     "output_type": "execute_result"
    }
   ],
   "source": [
    "###############################################\n",
    "# attach additional features to each row here #\n",
    "###############################################\n",
    "\n",
    "# set up running_df\n",
    "running_df = pd.DataFrame([], columns=['Date', 'Open', 'High', 'Low', 'Close', 'Adj Close', 'Volume'])\n",
    "running_df.index = running_df['Date']\n",
    "running_df.drop(columns=['Date'], inplace=True)\n",
    "\n",
    "# add columns\n",
    "running_df['sma_10'] = np.NaN\n",
    "running_df['sma_20'] = np.NaN\n",
    "running_df['sma_30'] = np.NaN\n",
    "running_df['macd'] = np.NaN\n",
    "running_df['macdsignal'] = np.NaN\n",
    "running_df['macdhist'] = np.NaN\n",
    "running_df['rsi'] = np.NaN\n",
    "\n",
    "for i in range(len(data)):\n",
    "    running_df = running_df.append(data.iloc[i:i+1, 0:6])\n",
    "\n",
    "    if len(running_df) > 10:\n",
    "        running_df.iloc[-1:-2:-1, 6] = SMA(running_df.iloc[-1:-11:-1]['Close'].values, timeperiod=10)[-1]\n",
    "\n",
    "    if len(running_df) > 20:\n",
    "        running_df.iloc[-1:-2:-1, 7] = SMA(running_df.iloc[-1:-21:-1]['Close'].values, timeperiod=20)[-1]\n",
    "\n",
    "    if len(running_df) > 30:\n",
    "        running_df.iloc[-1:-2:-1, 8] = SMA(running_df.iloc[-1:-31:-1]['Close'].values, timeperiod=30)[-1]\n",
    "\n",
    "    if len(running_df) > 33:\n",
    "        macd, macdsignal, macdhist = MACD(running_df['Close'].values, fastperiod=12, slowperiod=26, signalperiod=9)\n",
    "        running_df.iloc[-1:-2:-1, 9] = macd[-1]\n",
    "        running_df.iloc[-1:-2:-1, 10] = macdsignal[-1]\n",
    "        running_df.iloc[-1:-2:-1, 11] = macdhist[-1]\n",
    "    \n",
    "    if len(running_df) > 14:\n",
    "        real = RSI(running_df['Close'].values, timeperiod=14)\n",
    "        running_df.iloc[-1:-2:-1, 12] = real[-1]\n",
    "\n",
    "running_df"
   ]
  },
  {
   "cell_type": "code",
   "execution_count": 343,
   "metadata": {},
   "outputs": [
    {
     "name": "stdout",
     "output_type": "stream",
     "text": [
      "<class 'pandas.core.frame.DataFrame'>\n",
      "DatetimeIndex: 500 entries, 2020-01-16 to 2022-01-07\n",
      "Data columns (total 13 columns):\n",
      " #   Column      Non-Null Count  Dtype  \n",
      "---  ------      --------------  -----  \n",
      " 0   Open        500 non-null    float64\n",
      " 1   High        500 non-null    float64\n",
      " 2   Low         500 non-null    float64\n",
      " 3   Close       500 non-null    float64\n",
      " 4   Adj Close   500 non-null    float64\n",
      " 5   Volume      500 non-null    object \n",
      " 6   sma_10      490 non-null    float64\n",
      " 7   sma_20      480 non-null    float64\n",
      " 8   sma_30      470 non-null    float64\n",
      " 9   macd        467 non-null    float64\n",
      " 10  macdsignal  467 non-null    float64\n",
      " 11  macdhist    467 non-null    float64\n",
      " 12  rsi         486 non-null    float64\n",
      "dtypes: float64(12), object(1)\n",
      "memory usage: 54.7+ KB\n"
     ]
    }
   ],
   "source": [
    "# check column types\n",
    "running_df.info(verbose=True)"
   ]
  },
  {
   "cell_type": "code",
   "execution_count": 344,
   "metadata": {},
   "outputs": [],
   "source": [
    "# convert Volume to numeric because it changed to object for some reason\n",
    "running_df['Volume'] = pd.to_numeric(running_df.Volume)"
   ]
  },
  {
   "cell_type": "code",
   "execution_count": 345,
   "metadata": {},
   "outputs": [
    {
     "name": "stdout",
     "output_type": "stream",
     "text": [
      "<class 'pandas.core.frame.DataFrame'>\n",
      "DatetimeIndex: 500 entries, 2020-01-16 to 2022-01-07\n",
      "Data columns (total 13 columns):\n",
      " #   Column      Non-Null Count  Dtype  \n",
      "---  ------      --------------  -----  \n",
      " 0   Open        500 non-null    float64\n",
      " 1   High        500 non-null    float64\n",
      " 2   Low         500 non-null    float64\n",
      " 3   Close       500 non-null    float64\n",
      " 4   Adj Close   500 non-null    float64\n",
      " 5   Volume      500 non-null    int64  \n",
      " 6   sma_10      490 non-null    float64\n",
      " 7   sma_20      480 non-null    float64\n",
      " 8   sma_30      470 non-null    float64\n",
      " 9   macd        467 non-null    float64\n",
      " 10  macdsignal  467 non-null    float64\n",
      " 11  macdhist    467 non-null    float64\n",
      " 12  rsi         486 non-null    float64\n",
      "dtypes: float64(12), int64(1)\n",
      "memory usage: 54.7 KB\n"
     ]
    }
   ],
   "source": [
    "running_df.info(verbose=True)"
   ]
  },
  {
   "cell_type": "code",
   "execution_count": 346,
   "metadata": {},
   "outputs": [],
   "source": [
    "# 80/20 test/train split\n",
    "train_days = int((days_of_data - 10) * .8)\n",
    "test_days = int(train_days * .2)\n",
    "\n",
    "x_train = running_df.head(train_days)\n",
    "y_train = data['target'].head(train_days)\n",
    "\n",
    "x_test = running_df.tail(test_days)\n",
    "y_test = data['target'].tail(test_days)"
   ]
  },
  {
   "cell_type": "code",
   "execution_count": 349,
   "metadata": {},
   "outputs": [
    {
     "name": "stdout",
     "output_type": "stream",
     "text": [
      "{'reg_alpha': 0.03, 'num_leaves': 100, 'min_child_samples': 15, 'max_depth': 10, 'learning_rate': 0.05}\n",
      "Accuracy score for test set: 0.4875\n",
      "Recall score for test set: 1.0\n"
     ]
    }
   ],
   "source": [
    "lgbm_rand_gs = lgb.LGBMClassifier()\n",
    "\n",
    "#Define the parameters\n",
    "parameters = {'num_leaves':[20,40,60,80,100], 'min_child_samples':[5,10,15],'max_depth':[-1,5,10,20],\n",
    "             'learning_rate':[0.05,0.1,0.2],'reg_alpha':[0,0.01,0.03]}\n",
    "#Define the scoring\n",
    "clf = RandomizedSearchCV(lgbm_rand_gs,parameters,scoring='recall',n_iter=100)\n",
    "clf.fit(X=x_train, y=y_train)\n",
    "print(clf.best_params_)\n",
    "predicted=clf.predict(x_test)\n",
    "print('Accuracy score for test set:', accuracy_score(y_test, predicted))\n",
    "print('Recall score for test set:', recall_score(y_test, predicted))"
   ]
  },
  {
   "cell_type": "code",
   "execution_count": 363,
   "metadata": {},
   "outputs": [
    {
     "name": "stdout",
     "output_type": "stream",
     "text": [
      "[20]\ttraining's binary_logloss: 0.392052\tvalid_0's binary_logloss: 0.937816\n",
      "[40]\ttraining's binary_logloss: 0.261185\tvalid_0's binary_logloss: 1.06939\n",
      "[60]\ttraining's binary_logloss: 0.177511\tvalid_0's binary_logloss: 1.26455\n",
      "[80]\ttraining's binary_logloss: 0.125296\tvalid_0's binary_logloss: 1.36118\n",
      "[100]\ttraining's binary_logloss: 0.0902359\tvalid_0's binary_logloss: 1.40435\n"
     ]
    },
    {
     "data": {
      "text/plain": [
       "LGBMClassifier(learning_rate=0.05, max_depth=10, min_child_samples=15,\n",
       "               num_leaves=100, random_state=42, reg_alpha=0.03)"
      ]
     },
     "execution_count": 363,
     "metadata": {},
     "output_type": "execute_result"
    }
   ],
   "source": [
    "# train the model\n",
    "model = lgb.LGBMClassifier(reg_alpha=0.03, num_leaves=100, min_child_samples=15, max_depth=10, learning_rate=0.05, random_state=42)\n",
    "\n",
    "model.fit(x_train,y_train,eval_set=[(x_test,y_test),(x_train,y_train)],\n",
    "          verbose=20,eval_metric='logloss')"
   ]
  },
  {
   "cell_type": "code",
   "execution_count": 364,
   "metadata": {},
   "outputs": [
    {
     "name": "stdout",
     "output_type": "stream",
     "text": [
      "Training accuracy 1.0000\n",
      "Testing accuracy 0.4875\n"
     ]
    }
   ],
   "source": [
    "# evaluate model accuracy\n",
    "print('Training accuracy {:.4f}'.format(model.score(x_train,y_train)))\n",
    "print('Testing accuracy {:.4f}'.format(model.score(x_test,y_test)))"
   ]
  },
  {
   "cell_type": "code",
   "execution_count": 365,
   "metadata": {},
   "outputs": [
    {
     "data": {
      "text/plain": [
       "<AxesSubplot:title={'center':'Feature importance'}, xlabel='Feature importance', ylabel='Features'>"
      ]
     },
     "execution_count": 365,
     "metadata": {},
     "output_type": "execute_result"
    },
    {
     "data": {
      "image/png": "[encoded data removed]",
      "text/plain": [
       "<Figure size 432x288 with 1 Axes>"
      ]
     },
     "metadata": {
      "needs_background": "light"
     },
     "output_type": "display_data"
    }
   ],
   "source": [
    "lgb.plot_importance(model)"
   ]
  },
  {
   "cell_type": "code",
   "execution_count": 366,
   "metadata": {},
   "outputs": [
    {
     "data": {
      "text/plain": [
       "<AxesSubplot:title={'center':'Metric during training'}, xlabel='Iterations', ylabel='binary_logloss'>"
      ]
     },
     "execution_count": 366,
     "metadata": {},
     "output_type": "execute_result"
    },
    {
     "data": {
      "image/png": "[encoded data removed]",
      "text/plain": [
       "<Figure size 432x288 with 1 Axes>"
      ]
     },
     "metadata": {
      "needs_background": "light"
     },
     "output_type": "display_data"
    }
   ],
   "source": [
    "lgb.plot_metric(model)"
   ]
  },
  {
   "cell_type": "code",
   "execution_count": 367,
   "metadata": {},
   "outputs": [
    {
     "data": {
      "text/plain": [
       "<sklearn.metrics._plot.confusion_matrix.ConfusionMatrixDisplay at 0x11fbe7610>"
      ]
     },
     "execution_count": 367,
     "metadata": {},
     "output_type": "execute_result"
    },
    {
     "data": {
      "image/png": "[encoded data removed]",
      "text/plain": [
       "<Figure size 432x288 with 2 Axes>"
      ]
     },
     "metadata": {
      "needs_background": "light"
     },
     "output_type": "display_data"
    }
   ],
   "source": [
    "metrics.plot_confusion_matrix(model,x_test,y_test,cmap='Blues_r')"
   ]
  },
  {
   "cell_type": "code",
   "execution_count": 368,
   "metadata": {},
   "outputs": [
    {
     "name": "stdout",
     "output_type": "stream",
     "text": [
      "              precision    recall  f1-score   support\n",
      "\n",
      "           0       1.00      0.02      0.05        42\n",
      "           1       0.48      1.00      0.65        38\n",
      "\n",
      "    accuracy                           0.49        80\n",
      "   macro avg       0.74      0.51      0.35        80\n",
      "weighted avg       0.75      0.49      0.33        80\n",
      "\n"
     ]
    }
   ],
   "source": [
    "print(metrics.classification_report(y_test,model.predict(x_test)))"
   ]
  },
  {
   "cell_type": "code",
   "execution_count": 369,
   "metadata": {},
   "outputs": [],
   "source": [
    "pkl_filename = 'lgbm_model.pkl'\n",
    "\n",
    "with open(pkl_filename, 'wb') as file:  \n",
    "    pickle.dump(model, file)"
   ]
  },
  {
   "cell_type": "code",
   "execution_count": null,
   "metadata": {},
   "outputs": [],
   "source": []
  }
 ],
 "metadata": {
  "interpreter": {
   "hash": "6f7fe897ca8af54ce6bcaef56df631b7c61c214ad1194a9ce2f2566706903d5a"
  },
  "kernelspec": {
   "display_name": "Python 3.10.1 64-bit ('dfinance_proj_env': venv)",
   "language": "python",
   "name": "python3"
  },
  "language_info": {
   "codemirror_mode": {
    "name": "ipython",
    "version": 3
   },
   "file_extension": ".py",
   "mimetype": "text/x-python",
   "name": "python",
   "nbconvert_exporter": "python",
   "pygments_lexer": "ipython3",
   "version": "3.10.1"
  },
  "orig_nbformat": 4
 },
 "nbformat": 4,
 "nbformat_minor": 2
}
