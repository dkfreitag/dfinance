{
 "cells": [
  {
   "cell_type": "markdown",
   "metadata": {},
   "source": [
    "## Example Use of David's Finance Module, dfinance\n",
    "#### See it in action!\n",
    "This notebook shows an example that implements my custom finance package to backtest an (ineffective) algorithmic trading strategy."
   ]
  },
  {
   "cell_type": "code",
   "execution_count": 1,
   "metadata": {},
   "outputs": [],
   "source": [
    "import pandas as pd\n",
    "import yfinance as yf\n",
    "import numpy as np\n",
    "import pickle\n",
    "\n",
    "import dfinance as dfin\n",
    "from dfinance.trading_strategies import SMA_Crossover\n",
    "from dfinance.trading_strategies import PaperBracketOrder\n",
    "from dfinance.trading_strategies import BTBracketOrder\n",
    "from dfinance.trading_strategies import BT_EMA_Crossover\n",
    "from dfinance.trading_strategies import RH_EMA_Crossover\n",
    "\n",
    "import talib\n",
    "from talib.abstract import *\n",
    "\n",
    "from robin_stocks import *\n",
    "import robin_stocks.robinhood as r\n",
    "import pyotp\n",
    "\n",
    "import os\n",
    "from dotenv import load_dotenv\n",
    "load_dotenv()\n",
    "\n",
    "%load_ext autoreload\n",
    "%autoreload 2"
   ]
  },
  {
   "cell_type": "markdown",
   "metadata": {},
   "source": [
    "### Backtest a strategy that buys based on model predictions"
   ]
  },
  {
   "cell_type": "code",
   "execution_count": 3,
   "metadata": {},
   "outputs": [],
   "source": [
    "my_port = dfin.Portfolio()\n",
    "my_back = dfin.Backtest()"
   ]
  },
  {
   "cell_type": "code",
   "execution_count": 135,
   "metadata": {},
   "outputs": [],
   "source": [
    "# Get cash value - can also set this\n",
    "my_port.cashvalue = 100"
   ]
  },
  {
   "cell_type": "code",
   "execution_count": 136,
   "metadata": {},
   "outputs": [],
   "source": [
    "# load data from Yahoo!\n",
    "days_of_data = 110\n",
    "\n",
    "data = yf.download(tickers='HOG', period=f'{days_of_data}d', progress=False)\n",
    "data = data.head(days_of_data - 10)"
   ]
  },
  {
   "cell_type": "code",
   "execution_count": 137,
   "metadata": {},
   "outputs": [
    {
     "name": "stdout",
     "output_type": "stream",
     "text": [
      "Buying 1 shares of HOG for 36.88999938964844\n",
      "Selling 1 shares of HOG for 36.70000076293945\n",
      "Buying 1 shares of HOG for 37.08000183105469\n",
      "Selling 1 shares of HOG for 37.08000183105469\n",
      "Buying 1 shares of HOG for 37.38999938964844\n",
      "Selling 1 shares of HOG for 37.70000076293945\n",
      "Buying 1 shares of HOG for 36.560001373291016\n",
      "Selling 1 shares of HOG for 36.220001220703125\n",
      "Buying 1 shares of HOG for 36.66999816894531\n",
      "Selling 1 shares of HOG for 36.5099983215332\n",
      "Buying 1 shares of HOG for 35.310001373291016\n",
      "Selling 1 shares of HOG for 36.29999923706055\n",
      "Buying 1 shares of HOG for 36.29999923706055\n",
      "Selling 1 shares of HOG for 36.93000030517578\n",
      "Buying 1 shares of HOG for 36.58000183105469\n",
      "Selling 1 shares of HOG for 36.04999923706055\n",
      "Buying 1 shares of HOG for 36.040000915527344\n",
      "Selling 1 shares of HOG for 37.290000915527344\n",
      "Buying 1 shares of HOG for 36.630001068115234\n",
      "Selling 1 shares of HOG for 36.5099983215332\n",
      "Buying 1 shares of HOG for 36.20000076293945\n",
      "Selling 1 shares of HOG for 36.18000030517578\n",
      "Buying 1 shares of HOG for 36.689998626708984\n",
      "Selling 1 shares of HOG for 36.650001525878906\n",
      "Buying 1 shares of HOG for 35.439998626708984\n",
      "Selling 1 shares of HOG for 36.0\n",
      "Buying 1 shares of HOG for 36.56999969482422\n",
      "Selling 1 shares of HOG for 36.459999084472656\n",
      "Buying 1 shares of HOG for 38.619998931884766\n",
      "Selling 1 shares of HOG for 38.2599983215332\n",
      "Buying 1 shares of HOG for 38.099998474121094\n",
      "Selling 1 shares of HOG for 37.689998626708984\n",
      "Buying 1 shares of HOG for 37.939998626708984\n",
      "Selling 1 shares of HOG for 37.66999816894531\n",
      "Buying 1 shares of HOG for 37.279998779296875\n",
      "Selling 1 shares of HOG for 36.93000030517578\n",
      "Buying 1 shares of HOG for 37.060001373291016\n",
      "Selling 1 shares of HOG for 37.75\n",
      "Buying 1 shares of HOG for 38.59000015258789\n",
      "Selling 1 shares of HOG for 38.119998931884766\n",
      "Buying 1 shares of HOG for 37.90999984741211\n",
      "Selling 1 shares of HOG for 37.349998474121094\n",
      "Buying 1 shares of HOG for 37.16999816894531\n",
      "Selling 1 shares of HOG for 37.2400016784668\n",
      "Buying 1 shares of HOG for 38.5099983215332\n",
      "Selling 1 shares of HOG for 38.47999954223633\n",
      "Buying 1 shares of HOG for 36.79999923706055\n",
      "Selling 1 shares of HOG for 37.02000045776367\n",
      "Buying 1 shares of HOG for 35.61000061035156\n",
      "Selling 1 shares of HOG for 36.599998474121094\n",
      "Buying 1 shares of HOG for 36.84000015258789\n",
      "Selling 1 shares of HOG for 36.25\n",
      "Buying 1 shares of HOG for 36.560001373291016\n",
      "Selling 1 shares of HOG for 37.790000915527344\n",
      "Buying 1 shares of HOG for 37.689998626708984\n",
      "Selling 1 shares of HOG for 36.900001525878906\n",
      "Buying 1 shares of HOG for 36.310001373291016\n",
      "Selling 1 shares of HOG for 38.41999816894531\n",
      "Buying 1 shares of HOG for 37.11000061035156\n",
      "Selling 1 shares of HOG for 37.22999954223633\n",
      "Buying 1 shares of HOG for 36.779998779296875\n",
      "Selling 1 shares of HOG for 36.0\n",
      "Buying 1 shares of HOG for 34.45000076293945\n",
      "Selling 1 shares of HOG for 34.849998474121094\n",
      "Buying 1 shares of HOG for 35.119998931884766\n",
      "Selling 1 shares of HOG for 35.36000061035156\n",
      "Buying 1 shares of HOG for 35.86000061035156\n",
      "Selling 1 shares of HOG for 36.40999984741211\n",
      "Buying 1 shares of HOG for 37.0099983215332\n",
      "Selling 1 shares of HOG for 37.380001068115234\n",
      "Buying 1 shares of HOG for 37.130001068115234\n",
      "Selling 1 shares of HOG for 37.560001373291016\n",
      "Buying 1 shares of HOG for 38.08000183105469\n",
      "Selling 1 shares of HOG for 38.31999969482422\n",
      "Buying 1 shares of HOG for 37.91999816894531\n",
      "Selling 1 shares of HOG for 38.349998474121094\n"
     ]
    }
   ],
   "source": [
    "my_back.process_historical_data(df=data,\n",
    "                                my_port=my_port,\n",
    "                                my_strategy=BTBracketOrder.strategy,\n",
    "                                ticker='HOG',\n",
    "                                share_cnt=1,\n",
    "                                profit_pct=1.03,\n",
    "                                stop_pct=0.98,\n",
    "                                limit_pct=0.97,\n",
    "                                pkl_filename='lgbm_model.pkl')"
   ]
  },
  {
   "cell_type": "code",
   "execution_count": 138,
   "metadata": {},
   "outputs": [
    {
     "data": {
      "text/plain": [
       "105.70999908447266"
      ]
     },
     "execution_count": 138,
     "metadata": {},
     "output_type": "execute_result"
    }
   ],
   "source": [
    "my_port.cashvalue"
   ]
  },
  {
   "cell_type": "code",
   "execution_count": 139,
   "metadata": {},
   "outputs": [
    {
     "data": {
      "text/html": [
       "<div>\n",
       "<style scoped>\n",
       "    .dataframe tbody tr th:only-of-type {\n",
       "        vertical-align: middle;\n",
       "    }\n",
       "\n",
       "    .dataframe tbody tr th {\n",
       "        vertical-align: top;\n",
       "    }\n",
       "\n",
       "    .dataframe thead th {\n",
       "        text-align: right;\n",
       "    }\n",
       "</style>\n",
       "<table border=\"1\" class=\"dataframe\">\n",
       "  <thead>\n",
       "    <tr style=\"text-align: right;\">\n",
       "      <th></th>\n",
       "      <th>Ticker</th>\n",
       "      <th>Shares</th>\n",
       "      <th>Share Price</th>\n",
       "      <th>Dollar Amount</th>\n",
       "      <th>Buy/Sell</th>\n",
       "      <th>Transaction Datetime</th>\n",
       "    </tr>\n",
       "  </thead>\n",
       "  <tbody>\n",
       "    <tr>\n",
       "      <th>0</th>\n",
       "      <td>HOG</td>\n",
       "      <td>1</td>\n",
       "      <td>36.889999</td>\n",
       "      <td>36.889999</td>\n",
       "      <td>buy</td>\n",
       "      <td>2021-09-08</td>\n",
       "    </tr>\n",
       "    <tr>\n",
       "      <th>1</th>\n",
       "      <td>HOG</td>\n",
       "      <td>-1</td>\n",
       "      <td>36.700001</td>\n",
       "      <td>-36.700001</td>\n",
       "      <td>sell</td>\n",
       "      <td>2021-09-09</td>\n",
       "    </tr>\n",
       "    <tr>\n",
       "      <th>2</th>\n",
       "      <td>HOG</td>\n",
       "      <td>1</td>\n",
       "      <td>37.080002</td>\n",
       "      <td>37.080002</td>\n",
       "      <td>buy</td>\n",
       "      <td>2021-09-10</td>\n",
       "    </tr>\n",
       "    <tr>\n",
       "      <th>3</th>\n",
       "      <td>HOG</td>\n",
       "      <td>-1</td>\n",
       "      <td>37.080002</td>\n",
       "      <td>-37.080002</td>\n",
       "      <td>sell</td>\n",
       "      <td>2021-09-13</td>\n",
       "    </tr>\n",
       "    <tr>\n",
       "      <th>4</th>\n",
       "      <td>HOG</td>\n",
       "      <td>1</td>\n",
       "      <td>37.389999</td>\n",
       "      <td>37.389999</td>\n",
       "      <td>buy</td>\n",
       "      <td>2021-09-14</td>\n",
       "    </tr>\n",
       "    <tr>\n",
       "      <th>...</th>\n",
       "      <td>...</td>\n",
       "      <td>...</td>\n",
       "      <td>...</td>\n",
       "      <td>...</td>\n",
       "      <td>...</td>\n",
       "      <td>...</td>\n",
       "    </tr>\n",
       "    <tr>\n",
       "      <th>71</th>\n",
       "      <td>HOG</td>\n",
       "      <td>-1</td>\n",
       "      <td>37.560001</td>\n",
       "      <td>-37.560001</td>\n",
       "      <td>sell</td>\n",
       "      <td>2022-01-03</td>\n",
       "    </tr>\n",
       "    <tr>\n",
       "      <th>72</th>\n",
       "      <td>HOG</td>\n",
       "      <td>1</td>\n",
       "      <td>38.080002</td>\n",
       "      <td>38.080002</td>\n",
       "      <td>buy</td>\n",
       "      <td>2022-01-04</td>\n",
       "    </tr>\n",
       "    <tr>\n",
       "      <th>73</th>\n",
       "      <td>HOG</td>\n",
       "      <td>-1</td>\n",
       "      <td>38.320000</td>\n",
       "      <td>-38.320000</td>\n",
       "      <td>sell</td>\n",
       "      <td>2022-01-05</td>\n",
       "    </tr>\n",
       "    <tr>\n",
       "      <th>74</th>\n",
       "      <td>HOG</td>\n",
       "      <td>1</td>\n",
       "      <td>37.919998</td>\n",
       "      <td>37.919998</td>\n",
       "      <td>buy</td>\n",
       "      <td>2022-01-06</td>\n",
       "    </tr>\n",
       "    <tr>\n",
       "      <th>75</th>\n",
       "      <td>HOG</td>\n",
       "      <td>-1</td>\n",
       "      <td>38.349998</td>\n",
       "      <td>-38.349998</td>\n",
       "      <td>sell</td>\n",
       "      <td>2022-01-07</td>\n",
       "    </tr>\n",
       "  </tbody>\n",
       "</table>\n",
       "<p>76 rows × 6 columns</p>\n",
       "</div>"
      ],
      "text/plain": [
       "   Ticker  Shares  Share Price  Dollar Amount Buy/Sell Transaction Datetime\n",
       "0     HOG       1    36.889999      36.889999      buy           2021-09-08\n",
       "1     HOG      -1    36.700001     -36.700001     sell           2021-09-09\n",
       "2     HOG       1    37.080002      37.080002      buy           2021-09-10\n",
       "3     HOG      -1    37.080002     -37.080002     sell           2021-09-13\n",
       "4     HOG       1    37.389999      37.389999      buy           2021-09-14\n",
       "..    ...     ...          ...            ...      ...                  ...\n",
       "71    HOG      -1    37.560001     -37.560001     sell           2022-01-03\n",
       "72    HOG       1    38.080002      38.080002      buy           2022-01-04\n",
       "73    HOG      -1    38.320000     -38.320000     sell           2022-01-05\n",
       "74    HOG       1    37.919998      37.919998      buy           2022-01-06\n",
       "75    HOG      -1    38.349998     -38.349998     sell           2022-01-07\n",
       "\n",
       "[76 rows x 6 columns]"
      ]
     },
     "execution_count": 139,
     "metadata": {},
     "output_type": "execute_result"
    }
   ],
   "source": [
    "my_port.ledger()"
   ]
  },
  {
   "cell_type": "markdown",
   "metadata": {},
   "source": [
    "---"
   ]
  },
  {
   "cell_type": "markdown",
   "metadata": {},
   "source": [
    "### Paper trading with Alpaca\n",
    "Only works when the market is open."
   ]
  },
  {
   "cell_type": "code",
   "execution_count": 8,
   "metadata": {},
   "outputs": [],
   "source": [
    "my_alpaca_port = dfin.AlpacaPortfolio()\n",
    "my_back = dfin.Backtest()"
   ]
  },
  {
   "cell_type": "code",
   "execution_count": 9,
   "metadata": {},
   "outputs": [],
   "source": [
    "prefill_rows = yf.download(tickers='HOG', period='100d', progress=False)"
   ]
  },
  {
   "cell_type": "code",
   "execution_count": 10,
   "metadata": {},
   "outputs": [
    {
     "name": "stdout",
     "output_type": "stream",
     "text": [
      "Market is closed. No action will be taken.\n"
     ]
    }
   ],
   "source": [
    "my_back.process_live_data(prefill_rows=prefill_rows,\n",
    "                          my_alpaca_port=my_alpaca_port,\n",
    "                          my_strategy=PaperBracketOrder.strategy,\n",
    "                          ticker='HOG',\n",
    "                          share_cnt=3,\n",
    "                          profit_pct=1.05,\n",
    "                          stop_pct=0.95,\n",
    "                          limit_pct=0.94,\n",
    "                          pkl_filename='lgbm_model.pkl')"
   ]
  },
  {
   "cell_type": "code",
   "execution_count": 11,
   "metadata": {},
   "outputs": [
    {
     "data": {
      "text/html": [
       "<div>\n",
       "<style scoped>\n",
       "    .dataframe tbody tr th:only-of-type {\n",
       "        vertical-align: middle;\n",
       "    }\n",
       "\n",
       "    .dataframe tbody tr th {\n",
       "        vertical-align: top;\n",
       "    }\n",
       "\n",
       "    .dataframe thead th {\n",
       "        text-align: right;\n",
       "    }\n",
       "</style>\n",
       "<table border=\"1\" class=\"dataframe\">\n",
       "  <thead>\n",
       "    <tr style=\"text-align: right;\">\n",
       "      <th></th>\n",
       "      <th>Cash</th>\n",
       "      <th>Equity</th>\n",
       "      <th>Last Equity</th>\n",
       "      <th>Equity Change</th>\n",
       "      <th>Equity Change %</th>\n",
       "    </tr>\n",
       "  </thead>\n",
       "  <tbody>\n",
       "    <tr>\n",
       "      <th>0</th>\n",
       "      <td>99999.11</td>\n",
       "      <td>99999.11</td>\n",
       "      <td>99999.11</td>\n",
       "      <td>0.0</td>\n",
       "      <td>0.0</td>\n",
       "    </tr>\n",
       "  </tbody>\n",
       "</table>\n",
       "</div>"
      ],
      "text/plain": [
       "       Cash    Equity Last Equity  Equity Change  Equity Change %\n",
       "0  99999.11  99999.11    99999.11            0.0              0.0"
      ]
     },
     "execution_count": 11,
     "metadata": {},
     "output_type": "execute_result"
    }
   ],
   "source": [
    "# must call refresh() before getting status or positions\n",
    "# refresh() reloads the value of all attributes with current values\n",
    "my_alpaca_port.refresh()\n",
    "\n",
    "my_alpaca_port.get_account_status()"
   ]
  },
  {
   "cell_type": "code",
   "execution_count": 12,
   "metadata": {},
   "outputs": [
    {
     "data": {
      "text/html": [
       "<div>\n",
       "<style scoped>\n",
       "    .dataframe tbody tr th:only-of-type {\n",
       "        vertical-align: middle;\n",
       "    }\n",
       "\n",
       "    .dataframe tbody tr th {\n",
       "        vertical-align: top;\n",
       "    }\n",
       "\n",
       "    .dataframe thead th {\n",
       "        text-align: right;\n",
       "    }\n",
       "</style>\n",
       "<table border=\"1\" class=\"dataframe\">\n",
       "  <thead>\n",
       "    <tr style=\"text-align: right;\">\n",
       "      <th></th>\n",
       "      <th>Ticker</th>\n",
       "      <th>Shares Held</th>\n",
       "      <th>Cost Basis</th>\n",
       "      <th>Current Price</th>\n",
       "      <th>Unrealized Gain/Loss</th>\n",
       "      <th>Unrealized Gain/Loss %</th>\n",
       "    </tr>\n",
       "  </thead>\n",
       "  <tbody>\n",
       "  </tbody>\n",
       "</table>\n",
       "</div>"
      ],
      "text/plain": [
       "Empty DataFrame\n",
       "Columns: [Ticker, Shares Held, Cost Basis, Current Price, Unrealized Gain/Loss, Unrealized Gain/Loss %]\n",
       "Index: []"
      ]
     },
     "execution_count": 12,
     "metadata": {},
     "output_type": "execute_result"
    }
   ],
   "source": [
    "my_alpaca_port.current_positions()"
   ]
  },
  {
   "cell_type": "markdown",
   "metadata": {},
   "source": [
    "---"
   ]
  },
  {
   "cell_type": "markdown",
   "metadata": {},
   "source": [
    "### Backtest SMA Crossover strategy"
   ]
  },
  {
   "cell_type": "code",
   "execution_count": 2,
   "metadata": {},
   "outputs": [],
   "source": [
    "# Initialize backtest object\n",
    "# Initialize portfolio object\n",
    "my_back = dfin.Backtest()\n",
    "my_port = dfin.Portfolio()"
   ]
  },
  {
   "cell_type": "code",
   "execution_count": 3,
   "metadata": {},
   "outputs": [
    {
     "data": {
      "text/plain": [
       "100000.0"
      ]
     },
     "execution_count": 3,
     "metadata": {},
     "output_type": "execute_result"
    }
   ],
   "source": [
    "# Get cash value - can also set this\n",
    "my_port.cashvalue"
   ]
  },
  {
   "cell_type": "code",
   "execution_count": 133,
   "metadata": {},
   "outputs": [],
   "source": [
    "# load data from Yahoo!\n",
    "data = yf.download(tickers='AAPL', period='90d', progress=False)\n",
    "data.to_csv('aapl_daily_data.csv')\n",
    "historical_df = pd.read_csv('aapl_daily_data.csv', index_col='Date')"
   ]
  },
  {
   "cell_type": "code",
   "execution_count": 16,
   "metadata": {},
   "outputs": [
    {
     "name": "stdout",
     "output_type": "stream",
     "text": [
      "2021-10-05 | Short: 142.05 | Long: 142.92 | Short < Long\n",
      "2021-10-06 | Short: 141.51 | Long: 142.39 | Short < Long\n",
      "2021-10-07 | Short: 141.22 | Long: 142.09 | Short < Long\n",
      "2021-10-08 | Short: 140.92 | Long: 141.88 | Short < Long\n",
      "2021-10-11 | Short: 140.72 | Long: 141.91 | Short < Long\n",
      "2021-10-12 | Short: 140.65 | Long: 141.80 | Short < Long\n",
      "2021-10-13 | Short: 140.37 | Long: 141.50 | Short < Long\n",
      "2021-10-14 | Short: 140.39 | Long: 141.22 | Short < Long\n",
      "2021-10-15 | Short: 140.83 | Long: 141.09 | Short < Long\n",
      "2021-10-18 | Short: 141.32 | Long: 141.04 | Short > Long\n",
      "\n",
      "Buying 10 shares of AAPL for 1431.6000366210938\n",
      "\n",
      "2021-10-19 | Short: 142.04 | Long: 141.37 | Short > Long\n",
      "2021-10-20 | Short: 143.02 | Long: 141.77 | Short > Long\n",
      "2021-10-21 | Short: 143.53 | Long: 142.21 | Short > Long\n",
      "2021-10-22 | Short: 144.14 | Long: 142.85 | Short > Long\n",
      "2021-10-25 | Short: 144.72 | Long: 143.47 | Short > Long\n",
      "2021-10-26 | Short: 145.52 | Long: 144.11 | Short > Long\n",
      "2021-10-27 | Short: 146.45 | Long: 144.79 | Short > Long\n",
      "2021-10-28 | Short: 147.27 | Long: 145.25 | Short > Long\n",
      "2021-10-29 | Short: 147.56 | Long: 145.51 | Short > Long\n",
      "2021-11-01 | Short: 148.02 | Long: 145.91 | Short > Long\n",
      "2021-11-02 | Short: 148.23 | Long: 146.42 | Short > Long\n",
      "2021-11-03 | Short: 148.40 | Long: 147.13 | Short > Long\n",
      "2021-11-04 | Short: 148.68 | Long: 147.73 | Short > Long\n",
      "2021-11-05 | Short: 148.82 | Long: 148.17 | Short > Long\n",
      "2021-11-08 | Short: 149.08 | Long: 148.64 | Short > Long\n",
      "2021-11-09 | Short: 149.18 | Long: 148.87 | Short > Long\n",
      "2021-11-10 | Short: 149.12 | Long: 148.85 | Short > Long\n",
      "2021-11-11 | Short: 148.91 | Long: 148.84 | Short > Long\n",
      "2021-11-12 | Short: 149.02 | Long: 148.76 | Short > Long\n",
      "2021-11-15 | Short: 149.18 | Long: 148.88 | Short > Long\n",
      "2021-11-16 | Short: 149.25 | Long: 148.91 | Short > Long\n",
      "2021-11-17 | Short: 149.37 | Long: 149.07 | Short > Long\n",
      "2021-11-18 | Short: 149.61 | Long: 149.29 | Short > Long\n",
      "2021-11-19 | Short: 150.26 | Long: 149.97 | Short > Long\n",
      "2021-11-22 | Short: 151.34 | Long: 150.85 | Short > Long\n",
      "2021-11-23 | Short: 152.24 | Long: 151.54 | Short > Long\n",
      "2021-11-24 | Short: 153.42 | Long: 152.20 | Short > Long\n",
      "2021-11-26 | Short: 154.29 | Long: 152.58 | Short > Long\n",
      "2021-11-29 | Short: 155.42 | Long: 153.16 | Short > Long\n",
      "2021-11-30 | Short: 156.47 | Long: 153.81 | Short > Long\n",
      "2021-12-01 | Short: 157.99 | Long: 154.78 | Short > Long\n",
      "2021-12-02 | Short: 158.67 | Long: 155.44 | Short > Long\n",
      "2021-12-03 | Short: 159.33 | Long: 156.24 | Short > Long\n",
      "2021-12-06 | Short: 160.11 | Long: 157.36 | Short > Long\n",
      "2021-12-07 | Short: 160.84 | Long: 158.62 | Short > Long\n",
      "2021-12-08 | Short: 162.01 | Long: 160.05 | Short > Long\n",
      "2021-12-09 | Short: 163.44 | Long: 161.58 | Short > Long\n",
      "2021-12-10 | Short: 165.27 | Long: 163.02 | Short > Long\n",
      "2021-12-13 | Short: 166.94 | Long: 164.29 | Short > Long\n",
      "2021-12-14 | Short: 168.17 | Long: 165.03 | Short > Long\n",
      "2021-12-15 | Short: 168.95 | Long: 165.92 | Short > Long\n",
      "2021-12-16 | Short: 170.24 | Long: 166.66 | Short > Long\n",
      "2021-12-17 | Short: 171.24 | Long: 167.55 | Short > Long\n",
      "2021-12-20 | Short: 171.56 | Long: 168.12 | Short > Long\n",
      "2021-12-21 | Short: 171.64 | Long: 168.74 | Short > Long\n",
      "2021-12-22 | Short: 171.78 | Long: 169.24 | Short > Long\n",
      "2021-12-23 | Short: 171.92 | Long: 170.41 | Short > Long\n",
      "2021-12-27 | Short: 172.16 | Long: 171.57 | Short > Long\n",
      "2021-12-28 | Short: 172.46 | Long: 172.52 | Short < Long\n",
      "\n",
      "Selling 10 shares of AAPL for 1785.2999877929688\n",
      "\n",
      "2021-12-29 | Short: 173.05 | Long: 173.17 | Short < Long\n",
      "2021-12-30 | Short: 173.63 | Long: 173.66 | Short < Long\n",
      "2021-12-31 | Short: 174.28 | Long: 173.88 | Short > Long\n",
      "\n",
      "Buying 10 shares of AAPL for 1772.5999450683594\n",
      "\n",
      "2022-01-03 | Short: 175.08 | Long: 174.09 | Short > Long\n",
      "2022-01-04 | Short: 176.25 | Long: 174.33 | Short > Long\n",
      "2022-01-05 | Short: 176.80 | Long: 174.49 | Short > Long\n",
      "2022-01-06 | Short: 176.75 | Long: 174.44 | Short > Long\n",
      "2022-01-07 | Short: 176.32 | Long: 174.46 | Short > Long\n",
      "2022-01-10 | Short: 175.43 | Long: 174.36 | Short > Long\n",
      "2022-01-11 | Short: 174.66 | Long: 174.58 | Short > Long\n",
      "2022-01-12 | Short: 174.33 | Long: 174.96 | Short < Long\n",
      "\n",
      "Selling 10 shares of AAPL for 1748.2000732421875\n",
      "\n",
      "2022-01-13 | Short: 173.70 | Long: 174.94 | Short < Long\n",
      "2022-01-14 | Short: 173.08 | Long: 174.66 | Short < Long\n",
      "2022-01-18 | Short: 172.25 | Long: 174.15 | Short < Long\n",
      "2022-01-19 | Short: 170.94 | Long: 173.31 | Short < Long\n",
      "2022-01-20 | Short: 169.89 | Long: 172.38 | Short < Long\n",
      "2022-01-21 | Short: 168.96 | Long: 171.33 | Short < Long\n"
     ]
    }
   ],
   "source": [
    "# Process the data from the historical dataframe\n",
    "my_back.process_historical_data(historical_df,\n",
    "                                my_port,\n",
    "                                SMA_Crossover.strategy,\n",
    "                                sma_short=10,\n",
    "                                sma_long=15,\n",
    "                                share_num=10,\n",
    "                                ticker='AAPL')"
   ]
  },
  {
   "cell_type": "code",
   "execution_count": 17,
   "metadata": {},
   "outputs": [
    {
     "data": {
      "text/plain": [
       "100329.3000793457"
      ]
     },
     "execution_count": 17,
     "metadata": {},
     "output_type": "execute_result"
    }
   ],
   "source": [
    "my_port.cashvalue"
   ]
  },
  {
   "cell_type": "code",
   "execution_count": 18,
   "metadata": {},
   "outputs": [
    {
     "data": {
      "text/html": [
       "<div>\n",
       "<style scoped>\n",
       "    .dataframe tbody tr th:only-of-type {\n",
       "        vertical-align: middle;\n",
       "    }\n",
       "\n",
       "    .dataframe tbody tr th {\n",
       "        vertical-align: top;\n",
       "    }\n",
       "\n",
       "    .dataframe thead th {\n",
       "        text-align: right;\n",
       "    }\n",
       "</style>\n",
       "<table border=\"1\" class=\"dataframe\">\n",
       "  <thead>\n",
       "    <tr style=\"text-align: right;\">\n",
       "      <th></th>\n",
       "      <th>Ticker</th>\n",
       "      <th>Shares</th>\n",
       "      <th>Share Price</th>\n",
       "      <th>Dollar Amount</th>\n",
       "      <th>Buy/Sell</th>\n",
       "      <th>Transaction Datetime</th>\n",
       "    </tr>\n",
       "  </thead>\n",
       "  <tbody>\n",
       "    <tr>\n",
       "      <th>0</th>\n",
       "      <td>AAPL</td>\n",
       "      <td>10</td>\n",
       "      <td>143.160004</td>\n",
       "      <td>1431.600037</td>\n",
       "      <td>buy</td>\n",
       "      <td>2021-10-18</td>\n",
       "    </tr>\n",
       "    <tr>\n",
       "      <th>1</th>\n",
       "      <td>AAPL</td>\n",
       "      <td>-10</td>\n",
       "      <td>178.529999</td>\n",
       "      <td>-1785.299988</td>\n",
       "      <td>sell</td>\n",
       "      <td>2021-12-28</td>\n",
       "    </tr>\n",
       "    <tr>\n",
       "      <th>2</th>\n",
       "      <td>AAPL</td>\n",
       "      <td>10</td>\n",
       "      <td>177.259995</td>\n",
       "      <td>1772.599945</td>\n",
       "      <td>buy</td>\n",
       "      <td>2021-12-31</td>\n",
       "    </tr>\n",
       "    <tr>\n",
       "      <th>3</th>\n",
       "      <td>AAPL</td>\n",
       "      <td>-10</td>\n",
       "      <td>174.820007</td>\n",
       "      <td>-1748.200073</td>\n",
       "      <td>sell</td>\n",
       "      <td>2022-01-12</td>\n",
       "    </tr>\n",
       "  </tbody>\n",
       "</table>\n",
       "</div>"
      ],
      "text/plain": [
       "  Ticker  Shares  Share Price  Dollar Amount Buy/Sell Transaction Datetime\n",
       "0   AAPL      10   143.160004    1431.600037      buy           2021-10-18\n",
       "1   AAPL     -10   178.529999   -1785.299988     sell           2021-12-28\n",
       "2   AAPL      10   177.259995    1772.599945      buy           2021-12-31\n",
       "3   AAPL     -10   174.820007   -1748.200073     sell           2022-01-12"
      ]
     },
     "execution_count": 18,
     "metadata": {},
     "output_type": "execute_result"
    }
   ],
   "source": [
    "my_port.ledger()"
   ]
  },
  {
   "cell_type": "markdown",
   "metadata": {},
   "source": [
    "### Demonstrate other functions of the Porfolio class"
   ]
  },
  {
   "cell_type": "code",
   "execution_count": 19,
   "metadata": {},
   "outputs": [
    {
     "data": {
      "text/html": [
       "<div>\n",
       "<style scoped>\n",
       "    .dataframe tbody tr th:only-of-type {\n",
       "        vertical-align: middle;\n",
       "    }\n",
       "\n",
       "    .dataframe tbody tr th {\n",
       "        vertical-align: top;\n",
       "    }\n",
       "\n",
       "    .dataframe thead th {\n",
       "        text-align: right;\n",
       "    }\n",
       "</style>\n",
       "<table border=\"1\" class=\"dataframe\">\n",
       "  <thead>\n",
       "    <tr style=\"text-align: right;\">\n",
       "      <th></th>\n",
       "      <th>Ticker</th>\n",
       "      <th>Shares Held</th>\n",
       "      <th>Current Price</th>\n",
       "      <th>Current Value of Shares</th>\n",
       "    </tr>\n",
       "  </thead>\n",
       "  <tbody>\n",
       "  </tbody>\n",
       "</table>\n",
       "</div>"
      ],
      "text/plain": [
       "Empty DataFrame\n",
       "Columns: [Ticker, Shares Held, Current Price, Current Value of Shares]\n",
       "Index: []"
      ]
     },
     "execution_count": 19,
     "metadata": {},
     "output_type": "execute_result"
    }
   ],
   "source": [
    "my_port.current_positions()"
   ]
  },
  {
   "cell_type": "code",
   "execution_count": 20,
   "metadata": {},
   "outputs": [],
   "source": [
    "# Buy one share of GME for $100 - what a great price!\n",
    "my_port.buy_stock('GME', 3, 100, '2021-01-01 00:00:00')"
   ]
  },
  {
   "cell_type": "code",
   "execution_count": 21,
   "metadata": {},
   "outputs": [],
   "source": [
    "my_port.save_transactions('my_port.csv')"
   ]
  },
  {
   "cell_type": "code",
   "execution_count": 22,
   "metadata": {},
   "outputs": [
    {
     "data": {
      "text/html": [
       "<div>\n",
       "<style scoped>\n",
       "    .dataframe tbody tr th:only-of-type {\n",
       "        vertical-align: middle;\n",
       "    }\n",
       "\n",
       "    .dataframe tbody tr th {\n",
       "        vertical-align: top;\n",
       "    }\n",
       "\n",
       "    .dataframe thead th {\n",
       "        text-align: right;\n",
       "    }\n",
       "</style>\n",
       "<table border=\"1\" class=\"dataframe\">\n",
       "  <thead>\n",
       "    <tr style=\"text-align: right;\">\n",
       "      <th></th>\n",
       "      <th>Ticker</th>\n",
       "      <th>Shares Held</th>\n",
       "      <th>Current Price</th>\n",
       "      <th>Current Value of Shares</th>\n",
       "    </tr>\n",
       "  </thead>\n",
       "  <tbody>\n",
       "    <tr>\n",
       "      <th>1</th>\n",
       "      <td>GME</td>\n",
       "      <td>3</td>\n",
       "      <td>106.0</td>\n",
       "      <td>318.0</td>\n",
       "    </tr>\n",
       "    <tr>\n",
       "      <th>2</th>\n",
       "      <td>Totals</td>\n",
       "      <td>3</td>\n",
       "      <td>N/A</td>\n",
       "      <td>318.0</td>\n",
       "    </tr>\n",
       "  </tbody>\n",
       "</table>\n",
       "</div>"
      ],
      "text/plain": [
       "   Ticker  Shares Held Current Price  Current Value of Shares\n",
       "1     GME            3         106.0                    318.0\n",
       "2  Totals            3           N/A                    318.0"
      ]
     },
     "execution_count": 22,
     "metadata": {},
     "output_type": "execute_result"
    }
   ],
   "source": [
    "my_port.load_transactions('my_port.csv')\n",
    "my_port.current_positions()"
   ]
  },
  {
   "cell_type": "markdown",
   "metadata": {},
   "source": [
    "***"
   ]
  },
  {
   "cell_type": "markdown",
   "metadata": {},
   "source": [
    "## EMA BACKTEST"
   ]
  },
  {
   "cell_type": "code",
   "execution_count": 178,
   "metadata": {},
   "outputs": [],
   "source": [
    "# Initialize backtest object\n",
    "# Initialize portfolio object\n",
    "my_back = dfin.Backtest()\n",
    "my_port = dfin.Portfolio()"
   ]
  },
  {
   "cell_type": "code",
   "execution_count": 179,
   "metadata": {},
   "outputs": [
    {
     "data": {
      "text/plain": [
       "100000.0"
      ]
     },
     "execution_count": 179,
     "metadata": {},
     "output_type": "execute_result"
    }
   ],
   "source": [
    "# Get cash value - can also set this\n",
    "my_port.cashvalue\n"
   ]
  },
  {
   "cell_type": "code",
   "execution_count": 180,
   "metadata": {},
   "outputs": [
    {
     "name": "stdout",
     "output_type": "stream",
     "text": [
      "2021-04-19 00:00:00 | Short: 128.63 | Long: 125.63 | Short > Long\n",
      "\n",
      "Buying 10 shares of AAPL for 1333.3999633789062\n",
      "\n",
      "2021-04-20 00:00:00 | Short: 129.02 | Long: 125.85 | Short > Long\n",
      "2021-04-21 00:00:00 | Short: 129.31 | Long: 126.05 | Short > Long\n",
      "2021-04-22 00:00:00 | Short: 129.57 | Long: 126.24 | Short > Long\n",
      "2021-04-23 00:00:00 | Short: 129.90 | Long: 126.45 | Short > Long\n",
      "2021-04-26 00:00:00 | Short: 130.35 | Long: 126.70 | Short > Long\n",
      "2021-04-27 00:00:00 | Short: 130.82 | Long: 126.97 | Short > Long\n",
      "2021-04-28 00:00:00 | Short: 131.10 | Long: 127.19 | Short > Long\n",
      "2021-04-29 00:00:00 | Short: 131.27 | Long: 127.37 | Short > Long\n",
      "2021-04-30 00:00:00 | Short: 131.25 | Long: 127.51 | Short > Long\n",
      "2021-05-03 00:00:00 | Short: 131.32 | Long: 127.66 | Short > Long\n",
      "2021-05-04 00:00:00 | Short: 130.74 | Long: 127.63 | Short > Long\n",
      "2021-05-05 00:00:00 | Short: 130.40 | Long: 127.64 | Short > Long\n",
      "2021-05-06 00:00:00 | Short: 129.99 | Long: 127.62 | Short > Long\n",
      "2021-05-07 00:00:00 | Short: 129.92 | Long: 127.69 | Short > Long\n",
      "2021-05-10 00:00:00 | Short: 129.54 | Long: 127.66 | Short > Long\n",
      "2021-05-11 00:00:00 | Short: 128.69 | Long: 127.48 | Short > Long\n",
      "2021-05-12 00:00:00 | Short: 127.88 | Long: 127.29 | Short > Long\n",
      "2021-05-13 00:00:00 | Short: 127.43 | Long: 127.19 | Short > Long\n",
      "2021-05-14 00:00:00 | Short: 127.23 | Long: 127.14 | Short > Long\n",
      "2021-05-17 00:00:00 | Short: 126.98 | Long: 127.07 | Short < Long\n",
      "\n",
      "Selling 10 shares of AAPL for 1251.6999816894531\n",
      "\n",
      "2021-05-18 00:00:00 | Short: 126.70 | Long: 126.99 | Short < Long\n",
      "2021-05-19 00:00:00 | Short: 126.22 | Long: 126.84 | Short < Long\n",
      "2021-05-20 00:00:00 | Short: 126.08 | Long: 126.78 | Short < Long\n",
      "2021-05-21 00:00:00 | Short: 125.97 | Long: 126.72 | Short < Long\n",
      "2021-05-24 00:00:00 | Short: 125.97 | Long: 126.69 | Short < Long\n",
      "2021-05-25 00:00:00 | Short: 126.01 | Long: 126.68 | Short < Long\n",
      "2021-05-26 00:00:00 | Short: 126.06 | Long: 126.67 | Short < Long\n",
      "2021-05-27 00:00:00 | Short: 125.94 | Long: 126.61 | Short < Long\n",
      "2021-05-28 00:00:00 | Short: 125.77 | Long: 126.54 | Short < Long\n",
      "2021-06-01 00:00:00 | Short: 125.54 | Long: 126.45 | Short < Long\n",
      "2021-06-02 00:00:00 | Short: 125.35 | Long: 126.36 | Short < Long\n",
      "2021-06-03 00:00:00 | Short: 125.07 | Long: 126.25 | Short < Long\n",
      "2021-06-04 00:00:00 | Short: 124.92 | Long: 126.16 | Short < Long\n",
      "2021-06-07 00:00:00 | Short: 124.91 | Long: 126.11 | Short < Long\n",
      "2021-06-08 00:00:00 | Short: 125.07 | Long: 126.12 | Short < Long\n",
      "2021-06-09 00:00:00 | Short: 125.25 | Long: 126.13 | Short < Long\n",
      "2021-06-10 00:00:00 | Short: 125.34 | Long: 126.12 | Short < Long\n",
      "2021-06-11 00:00:00 | Short: 125.43 | Long: 126.12 | Short < Long\n",
      "2021-06-14 00:00:00 | Short: 125.64 | Long: 126.16 | Short < Long\n",
      "2021-06-15 00:00:00 | Short: 126.11 | Long: 126.27 | Short < Long\n",
      "2021-06-16 00:00:00 | Short: 126.40 | Long: 126.35 | Short > Long\n",
      "\n",
      "Buying 10 shares of AAPL for 1284.6000671386719\n",
      "\n",
      "2021-06-17 00:00:00 | Short: 126.81 | Long: 126.47 | Short > Long\n",
      "2021-06-18 00:00:00 | Short: 127.24 | Long: 126.60 | Short > Long\n",
      "2021-06-21 00:00:00 | Short: 127.48 | Long: 126.70 | Short > Long\n",
      "2021-06-22 00:00:00 | Short: 128.00 | Long: 126.87 | Short > Long\n",
      "2021-06-23 00:00:00 | Short: 128.65 | Long: 127.10 | Short > Long\n",
      "2021-06-24 00:00:00 | Short: 129.19 | Long: 127.31 | Short > Long\n",
      "2021-06-25 00:00:00 | Short: 129.64 | Long: 127.50 | Short > Long\n",
      "2021-06-28 00:00:00 | Short: 130.10 | Long: 127.71 | Short > Long\n",
      "2021-06-29 00:00:00 | Short: 130.64 | Long: 127.95 | Short > Long\n",
      "2021-06-30 00:00:00 | Short: 131.29 | Long: 128.23 | Short > Long\n",
      "2021-07-01 00:00:00 | Short: 131.85 | Long: 128.50 | Short > Long\n",
      "2021-07-02 00:00:00 | Short: 132.59 | Long: 128.83 | Short > Long\n",
      "2021-07-06 00:00:00 | Short: 133.52 | Long: 129.23 | Short > Long\n",
      "2021-07-07 00:00:00 | Short: 134.66 | Long: 129.71 | Short > Long\n",
      "2021-07-08 00:00:00 | Short: 135.41 | Long: 130.10 | Short > Long\n",
      "2021-07-09 00:00:00 | Short: 136.32 | Long: 130.55 | Short > Long\n",
      "2021-07-12 00:00:00 | Short: 137.28 | Long: 131.03 | Short > Long\n",
      "2021-07-13 00:00:00 | Short: 138.07 | Long: 131.48 | Short > Long\n",
      "2021-07-14 00:00:00 | Short: 139.27 | Long: 132.06 | Short > Long\n",
      "2021-07-15 00:00:00 | Short: 140.25 | Long: 132.60 | Short > Long\n",
      "2021-07-16 00:00:00 | Short: 140.95 | Long: 133.07 | Short > Long\n",
      "2021-07-19 00:00:00 | Short: 141.04 | Long: 133.38 | Short > Long\n",
      "2021-07-20 00:00:00 | Short: 141.28 | Long: 133.72 | Short > Long\n",
      "2021-07-21 00:00:00 | Short: 141.70 | Long: 134.11 | Short > Long\n",
      "2021-07-22 00:00:00 | Short: 142.22 | Long: 134.53 | Short > Long\n",
      "2021-07-23 00:00:00 | Short: 142.80 | Long: 134.97 | Short > Long\n",
      "2021-07-26 00:00:00 | Short: 143.42 | Long: 135.43 | Short > Long\n",
      "2021-07-27 00:00:00 | Short: 143.68 | Long: 135.79 | Short > Long\n",
      "2021-07-28 00:00:00 | Short: 143.54 | Long: 136.03 | Short > Long\n",
      "2021-07-29 00:00:00 | Short: 143.67 | Long: 136.33 | Short > Long\n",
      "2021-07-30 00:00:00 | Short: 143.72 | Long: 136.61 | Short > Long\n",
      "2021-08-02 00:00:00 | Short: 143.92 | Long: 136.92 | Short > Long\n",
      "2021-08-03 00:00:00 | Short: 144.07 | Long: 137.22 | Short > Long\n",
      "2021-08-04 00:00:00 | Short: 144.35 | Long: 137.54 | Short > Long\n",
      "2021-08-05 00:00:00 | Short: 144.58 | Long: 137.85 | Short > Long\n",
      "2021-08-06 00:00:00 | Short: 144.71 | Long: 138.13 | Short > Long\n",
      "2021-08-09 00:00:00 | Short: 144.81 | Long: 138.39 | Short > Long\n",
      "2021-08-10 00:00:00 | Short: 144.87 | Long: 138.64 | Short > Long\n",
      "2021-08-11 00:00:00 | Short: 144.95 | Long: 138.88 | Short > Long\n",
      "2021-08-12 00:00:00 | Short: 145.06 | Long: 139.13 | Short > Long\n",
      "2021-08-13 00:00:00 | Short: 145.47 | Long: 139.46 | Short > Long\n",
      "2021-08-16 00:00:00 | Short: 145.59 | Long: 139.71 | Short > Long\n",
      "2021-08-17 00:00:00 | Short: 146.03 | Long: 140.04 | Short > Long\n",
      "2021-08-18 00:00:00 | Short: 146.04 | Long: 140.26 | Short > Long\n",
      "2021-08-19 00:00:00 | Short: 145.85 | Long: 140.41 | Short > Long\n",
      "2021-08-20 00:00:00 | Short: 145.97 | Long: 140.64 | Short > Long\n",
      "2021-08-23 00:00:00 | Short: 146.21 | Long: 140.90 | Short > Long\n",
      "2021-08-24 00:00:00 | Short: 146.57 | Long: 141.19 | Short > Long\n",
      "2021-08-25 00:00:00 | Short: 146.73 | Long: 141.43 | Short > Long\n",
      "2021-08-26 00:00:00 | Short: 146.83 | Long: 141.65 | Short > Long\n",
      "2021-08-27 00:00:00 | Short: 146.83 | Long: 141.83 | Short > Long\n",
      "2021-08-30 00:00:00 | Short: 147.05 | Long: 142.07 | Short > Long\n",
      "2021-08-31 00:00:00 | Short: 147.58 | Long: 142.40 | Short > Long\n",
      "2021-09-01 00:00:00 | Short: 148.17 | Long: 142.76 | Short > Long\n",
      "2021-09-02 00:00:00 | Short: 148.70 | Long: 143.10 | Short > Long\n",
      "2021-09-03 00:00:00 | Short: 149.25 | Long: 143.46 | Short > Long\n",
      "2021-09-07 00:00:00 | Short: 149.89 | Long: 143.85 | Short > Long\n",
      "2021-09-08 00:00:00 | Short: 150.40 | Long: 144.21 | Short > Long\n",
      "2021-09-09 00:00:00 | Short: 150.85 | Long: 144.56 | Short > Long\n",
      "2021-09-10 00:00:00 | Short: 150.58 | Long: 144.71 | Short > Long\n",
      "2021-09-13 00:00:00 | Short: 150.35 | Long: 144.85 | Short > Long\n",
      "2021-09-14 00:00:00 | Short: 149.92 | Long: 144.92 | Short > Long\n",
      "2021-09-15 00:00:00 | Short: 149.48 | Long: 144.98 | Short > Long\n",
      "2021-09-16 00:00:00 | Short: 149.19 | Long: 145.06 | Short > Long\n",
      "2021-09-17 00:00:00 | Short: 148.77 | Long: 145.08 | Short > Long\n",
      "2021-09-20 00:00:00 | Short: 147.83 | Long: 144.95 | Short > Long\n",
      "2021-09-21 00:00:00 | Short: 147.20 | Long: 144.87 | Short > Long\n",
      "2021-09-22 00:00:00 | Short: 146.76 | Long: 144.83 | Short > Long\n",
      "2021-09-23 00:00:00 | Short: 146.62 | Long: 144.86 | Short > Long\n",
      "2021-09-24 00:00:00 | Short: 146.49 | Long: 144.88 | Short > Long\n",
      "2021-09-27 00:00:00 | Short: 146.15 | Long: 144.84 | Short > Long\n",
      "2021-09-28 00:00:00 | Short: 145.60 | Long: 144.73 | Short > Long\n",
      "2021-09-29 00:00:00 | Short: 145.15 | Long: 144.63 | Short > Long\n",
      "2021-09-30 00:00:00 | Short: 144.67 | Long: 144.51 | Short > Long\n",
      "2021-10-01 00:00:00 | Short: 143.97 | Long: 144.32 | Short < Long\n",
      "\n",
      "Selling 10 shares of AAPL for 1391.1000061035156\n",
      "\n",
      "2021-10-04 00:00:00 | Short: 143.26 | Long: 144.10 | Short < Long\n",
      "2021-10-05 00:00:00 | Short: 142.77 | Long: 143.94 | Short < Long\n",
      "2021-10-06 00:00:00 | Short: 142.22 | Long: 143.74 | Short < Long\n",
      "2021-10-07 00:00:00 | Short: 142.28 | Long: 143.70 | Short < Long\n",
      "2021-10-08 00:00:00 | Short: 142.32 | Long: 143.66 | Short < Long\n",
      "2021-10-11 00:00:00 | Short: 142.25 | Long: 143.59 | Short < Long\n",
      "2021-10-12 00:00:00 | Short: 142.10 | Long: 143.50 | Short < Long\n",
      "2021-10-13 00:00:00 | Short: 141.74 | Long: 143.35 | Short < Long\n",
      "2021-10-14 00:00:00 | Short: 141.71 | Long: 143.28 | Short < Long\n",
      "2021-10-15 00:00:00 | Short: 141.94 | Long: 143.29 | Short < Long\n",
      "2021-10-18 00:00:00 | Short: 142.09 | Long: 143.29 | Short < Long\n",
      "2021-10-19 00:00:00 | Short: 142.65 | Long: 143.40 | Short < Long\n",
      "2021-10-20 00:00:00 | Short: 143.33 | Long: 143.57 | Short < Long\n",
      "2021-10-21 00:00:00 | Short: 143.90 | Long: 143.72 | Short > Long\n",
      "\n",
      "Buying 10 shares of AAPL for 1478.699951171875\n",
      "\n",
      "2021-10-22 00:00:00 | Short: 144.49 | Long: 143.90 | Short > Long\n",
      "2021-10-25 00:00:00 | Short: 144.88 | Long: 144.03 | Short > Long\n",
      "2021-10-26 00:00:00 | Short: 145.40 | Long: 144.21 | Short > Long\n",
      "2021-10-27 00:00:00 | Short: 145.78 | Long: 144.36 | Short > Long\n",
      "2021-10-28 00:00:00 | Short: 146.28 | Long: 144.56 | Short > Long\n",
      "2021-10-29 00:00:00 | Short: 146.29 | Long: 144.62 | Short > Long\n",
      "2021-11-01 00:00:00 | Short: 146.48 | Long: 144.73 | Short > Long\n",
      "2021-11-02 00:00:00 | Short: 146.75 | Long: 144.87 | Short > Long\n",
      "2021-11-03 00:00:00 | Short: 147.14 | Long: 145.05 | Short > Long\n",
      "2021-11-04 00:00:00 | Short: 147.57 | Long: 145.25 | Short > Long\n",
      "2021-11-05 00:00:00 | Short: 147.88 | Long: 145.42 | Short > Long\n",
      "2021-11-08 00:00:00 | Short: 148.17 | Long: 145.59 | Short > Long\n",
      "2021-11-09 00:00:00 | Short: 148.41 | Long: 145.75 | Short > Long\n",
      "2021-11-10 00:00:00 | Short: 148.34 | Long: 145.83 | Short > Long\n",
      "2021-11-11 00:00:00 | Short: 148.25 | Long: 145.89 | Short > Long\n",
      "2021-11-12 00:00:00 | Short: 148.16 | Long: 145.95 | Short > Long\n",
      "2021-11-15 00:00:00 | Short: 148.32 | Long: 146.07 | Short > Long\n",
      "2021-11-16 00:00:00 | Short: 148.44 | Long: 146.19 | Short > Long\n",
      "2021-11-17 00:00:00 | Short: 148.76 | Long: 146.36 | Short > Long\n",
      "2021-11-18 00:00:00 | Short: 149.30 | Long: 146.60 | Short > Long\n",
      "2021-11-19 00:00:00 | Short: 150.20 | Long: 146.96 | Short > Long\n",
      "2021-11-22 00:00:00 | Short: 151.55 | Long: 147.46 | Short > Long\n",
      "2021-11-23 00:00:00 | Short: 152.49 | Long: 147.87 | Short > Long\n",
      "2021-11-24 00:00:00 | Short: 153.38 | Long: 148.29 | Short > Long\n",
      "2021-11-26 00:00:00 | Short: 153.76 | Long: 148.58 | Short > Long\n",
      "2021-11-29 00:00:00 | Short: 154.39 | Long: 148.94 | Short > Long\n",
      "2021-11-30 00:00:00 | Short: 155.08 | Long: 149.34 | Short > Long\n",
      "2021-12-01 00:00:00 | Short: 156.26 | Long: 149.88 | Short > Long\n",
      "2021-12-02 00:00:00 | Short: 156.45 | Long: 150.16 | Short > Long\n",
      "2021-12-03 00:00:00 | Short: 156.86 | Long: 150.50 | Short > Long\n",
      "2021-12-06 00:00:00 | Short: 157.79 | Long: 151.00 | Short > Long\n",
      "2021-12-07 00:00:00 | Short: 159.11 | Long: 151.61 | Short > Long\n",
      "2021-12-08 00:00:00 | Short: 160.56 | Long: 152.30 | Short > Long\n",
      "2021-12-09 00:00:00 | Short: 162.23 | Long: 153.07 | Short > Long\n",
      "2021-12-10 00:00:00 | Short: 163.78 | Long: 153.84 | Short > Long\n",
      "2021-12-13 00:00:00 | Short: 165.25 | Long: 154.62 | Short > Long\n",
      "2021-12-14 00:00:00 | Short: 166.12 | Long: 155.24 | Short > Long\n",
      "2021-12-15 00:00:00 | Short: 166.90 | Long: 155.85 | Short > Long\n",
      "2021-12-16 00:00:00 | Short: 167.38 | Long: 156.39 | Short > Long\n",
      "2021-12-17 00:00:00 | Short: 167.67 | Long: 156.86 | Short > Long\n",
      "2021-12-20 00:00:00 | Short: 167.64 | Long: 157.24 | Short > Long\n",
      "2021-12-21 00:00:00 | Short: 167.83 | Long: 157.66 | Short > Long\n",
      "2021-12-22 00:00:00 | Short: 168.37 | Long: 158.18 | Short > Long\n",
      "2021-12-23 00:00:00 | Short: 169.23 | Long: 158.79 | Short > Long\n",
      "2021-12-27 00:00:00 | Short: 170.21 | Long: 159.44 | Short > Long\n",
      "2021-12-28 00:00:00 | Short: 171.25 | Long: 160.13 | Short > Long\n",
      "2021-12-29 00:00:00 | Short: 172.11 | Long: 160.77 | Short > Long\n",
      "2021-12-30 00:00:00 | Short: 172.86 | Long: 161.39 | Short > Long\n",
      "2021-12-31 00:00:00 | Short: 173.41 | Long: 161.95 | Short > Long\n",
      "2022-01-03 00:00:00 | Short: 173.95 | Long: 162.52 | Short > Long\n",
      "2022-01-04 00:00:00 | Short: 174.59 | Long: 163.11 | Short > Long\n",
      "2022-01-05 00:00:00 | Short: 174.60 | Long: 163.52 | Short > Long\n",
      "2022-01-06 00:00:00 | Short: 174.23 | Long: 163.81 | Short > Long\n",
      "2022-01-07 00:00:00 | Short: 173.83 | Long: 164.07 | Short > Long\n",
      "2022-01-10 00:00:00 | Short: 173.12 | Long: 164.22 | Short > Long\n",
      "2022-01-11 00:00:00 | Short: 172.83 | Long: 164.45 | Short > Long\n",
      "2022-01-12 00:00:00 | Short: 173.08 | Long: 164.82 | Short > Long\n",
      "2022-01-13 00:00:00 | Short: 172.92 | Long: 165.07 | Short > Long\n",
      "2022-01-14 00:00:00 | Short: 172.69 | Long: 165.29 | Short > Long\n",
      "2022-01-18 00:00:00 | Short: 172.28 | Long: 165.43 | Short > Long\n",
      "2022-01-19 00:00:00 | Short: 171.49 | Long: 165.45 | Short > Long\n",
      "2022-01-20 00:00:00 | Short: 170.58 | Long: 165.41 | Short > Long\n",
      "2022-01-21 00:00:00 | Short: 169.54 | Long: 165.30 | Short > Long\n",
      "2022-01-24 00:00:00 | Short: 167.69 | Long: 164.92 | Short > Long\n",
      "2022-01-25 00:00:00 | Short: 166.35 | Long: 164.63 | Short > Long\n",
      "2022-01-26 00:00:00 | Short: 165.29 | Long: 164.39 | Short > Long\n",
      "2022-01-27 00:00:00 | Short: 164.41 | Long: 164.17 | Short > Long\n",
      "2022-01-28 00:00:00 | Short: 164.21 | Long: 164.12 | Short > Long\n",
      "2022-01-31 00:00:00 | Short: 164.87 | Long: 164.32 | Short > Long\n",
      "2022-02-01 00:00:00 | Short: 165.80 | Long: 164.60 | Short > Long\n",
      "Closing position.\n",
      "\n",
      "Selling 10 shares of AAPL for 1723.2000732421875\n",
      "\n"
     ]
    }
   ],
   "source": [
    "# load data from Yahoo!\n",
    "# Note, the first 500 days are just used to converge the EMAs\n",
    "# Only the days after 500 are part of the backtest\n",
    "data = yf.download(tickers='AAPL', period='700d', progress=False)\n",
    "\n",
    "# Process the data from the historical dataframe\n",
    "my_back.process_historical_data(data,\n",
    "                                my_port,\n",
    "                                BT_EMA_Crossover.strategy,\n",
    "                                ema_short=15,\n",
    "                                ema_long=55,\n",
    "                                share_num=10,\n",
    "                                ticker='AAPL',\n",
    "                                close_positions_eob=True)"
   ]
  },
  {
   "cell_type": "code",
   "execution_count": 181,
   "metadata": {},
   "outputs": [
    {
     "data": {
      "text/plain": [
       "100269.3000793457"
      ]
     },
     "execution_count": 181,
     "metadata": {},
     "output_type": "execute_result"
    }
   ],
   "source": [
    "my_port.cashvalue"
   ]
  },
  {
   "cell_type": "code",
   "execution_count": 182,
   "metadata": {},
   "outputs": [
    {
     "data": {
      "text/html": [
       "<div>\n",
       "<style scoped>\n",
       "    .dataframe tbody tr th:only-of-type {\n",
       "        vertical-align: middle;\n",
       "    }\n",
       "\n",
       "    .dataframe tbody tr th {\n",
       "        vertical-align: top;\n",
       "    }\n",
       "\n",
       "    .dataframe thead th {\n",
       "        text-align: right;\n",
       "    }\n",
       "</style>\n",
       "<table border=\"1\" class=\"dataframe\">\n",
       "  <thead>\n",
       "    <tr style=\"text-align: right;\">\n",
       "      <th></th>\n",
       "      <th>Ticker</th>\n",
       "      <th>Shares</th>\n",
       "      <th>Share Price</th>\n",
       "      <th>Dollar Amount</th>\n",
       "      <th>Buy/Sell</th>\n",
       "      <th>Transaction Datetime</th>\n",
       "    </tr>\n",
       "  </thead>\n",
       "  <tbody>\n",
       "    <tr>\n",
       "      <th>0</th>\n",
       "      <td>AAPL</td>\n",
       "      <td>10</td>\n",
       "      <td>133.339996</td>\n",
       "      <td>1333.399963</td>\n",
       "      <td>buy</td>\n",
       "      <td>2021-04-19</td>\n",
       "    </tr>\n",
       "    <tr>\n",
       "      <th>1</th>\n",
       "      <td>AAPL</td>\n",
       "      <td>-10</td>\n",
       "      <td>125.169998</td>\n",
       "      <td>-1251.699982</td>\n",
       "      <td>sell</td>\n",
       "      <td>2021-05-17</td>\n",
       "    </tr>\n",
       "    <tr>\n",
       "      <th>2</th>\n",
       "      <td>AAPL</td>\n",
       "      <td>10</td>\n",
       "      <td>128.460007</td>\n",
       "      <td>1284.600067</td>\n",
       "      <td>buy</td>\n",
       "      <td>2021-06-16</td>\n",
       "    </tr>\n",
       "    <tr>\n",
       "      <th>3</th>\n",
       "      <td>AAPL</td>\n",
       "      <td>-10</td>\n",
       "      <td>139.110001</td>\n",
       "      <td>-1391.100006</td>\n",
       "      <td>sell</td>\n",
       "      <td>2021-10-01</td>\n",
       "    </tr>\n",
       "    <tr>\n",
       "      <th>4</th>\n",
       "      <td>AAPL</td>\n",
       "      <td>10</td>\n",
       "      <td>147.869995</td>\n",
       "      <td>1478.699951</td>\n",
       "      <td>buy</td>\n",
       "      <td>2021-10-21</td>\n",
       "    </tr>\n",
       "    <tr>\n",
       "      <th>5</th>\n",
       "      <td>AAPL</td>\n",
       "      <td>-10</td>\n",
       "      <td>172.320007</td>\n",
       "      <td>-1723.200073</td>\n",
       "      <td>sell</td>\n",
       "      <td>2022-02-01</td>\n",
       "    </tr>\n",
       "  </tbody>\n",
       "</table>\n",
       "</div>"
      ],
      "text/plain": [
       "  Ticker  Shares  Share Price  Dollar Amount Buy/Sell Transaction Datetime\n",
       "0   AAPL      10   133.339996    1333.399963      buy           2021-04-19\n",
       "1   AAPL     -10   125.169998   -1251.699982     sell           2021-05-17\n",
       "2   AAPL      10   128.460007    1284.600067      buy           2021-06-16\n",
       "3   AAPL     -10   139.110001   -1391.100006     sell           2021-10-01\n",
       "4   AAPL      10   147.869995    1478.699951      buy           2021-10-21\n",
       "5   AAPL     -10   172.320007   -1723.200073     sell           2022-02-01"
      ]
     },
     "execution_count": 182,
     "metadata": {},
     "output_type": "execute_result"
    }
   ],
   "source": [
    "my_port.ledger()"
   ]
  },
  {
   "cell_type": "code",
   "execution_count": 183,
   "metadata": {},
   "outputs": [
    {
     "data": {
      "text/html": [
       "<div>\n",
       "<style scoped>\n",
       "    .dataframe tbody tr th:only-of-type {\n",
       "        vertical-align: middle;\n",
       "    }\n",
       "\n",
       "    .dataframe tbody tr th {\n",
       "        vertical-align: top;\n",
       "    }\n",
       "\n",
       "    .dataframe thead th {\n",
       "        text-align: right;\n",
       "    }\n",
       "</style>\n",
       "<table border=\"1\" class=\"dataframe\">\n",
       "  <thead>\n",
       "    <tr style=\"text-align: right;\">\n",
       "      <th></th>\n",
       "      <th>Ticker</th>\n",
       "      <th>Shares Held</th>\n",
       "      <th>Current Price</th>\n",
       "      <th>Current Value of Shares</th>\n",
       "    </tr>\n",
       "  </thead>\n",
       "  <tbody>\n",
       "  </tbody>\n",
       "</table>\n",
       "</div>"
      ],
      "text/plain": [
       "Empty DataFrame\n",
       "Columns: [Ticker, Shares Held, Current Price, Current Value of Shares]\n",
       "Index: []"
      ]
     },
     "execution_count": 183,
     "metadata": {},
     "output_type": "execute_result"
    }
   ],
   "source": [
    "my_port.current_positions()"
   ]
  },
  {
   "cell_type": "markdown",
   "metadata": {},
   "source": [
    "***"
   ]
  },
  {
   "cell_type": "code",
   "execution_count": null,
   "metadata": {},
   "outputs": [],
   "source": []
  }
 ],
 "metadata": {
  "interpreter": {
   "hash": "fd1fc8df71dc487d66704bd1ed253f2c00860f37e3d3b3bbe34b5f8ddefeabbd"
  },
  "kernelspec": {
   "display_name": "Python 3.10.1 64-bit ('alpaca_env': venv)",
   "language": "python",
   "name": "python3"
  },
  "language_info": {
   "codemirror_mode": {
    "name": "ipython",
    "version": 3
   },
   "file_extension": ".py",
   "mimetype": "text/x-python",
   "name": "python",
   "nbconvert_exporter": "python",
   "pygments_lexer": "ipython3",
   "version": "3.10.1"
  },
  "orig_nbformat": 4
 },
 "nbformat": 4,
 "nbformat_minor": 2
}
