{
 "cells": [
  {
   "cell_type": "markdown",
   "metadata": {},
   "source": [
    "## Example Use of David's Finance Module, dfinance\n",
    "#### See it in action!\n",
    "This notebook shows an example that implements my custom finance package to backtest an (ineffective) algorithmic trading strategy."
   ]
  },
  {
   "cell_type": "code",
   "execution_count": 1,
   "metadata": {},
   "outputs": [],
   "source": [
    "import pandas as pd\n",
    "import yfinance as yf\n",
    "import numpy as np\n",
    "\n",
    "import dfinance as dfin\n",
    "from dfinance.trading_strategies import SMA_Crossover\n",
    "\n",
    "%load_ext autoreload\n",
    "%autoreload 2"
   ]
  },
  {
   "cell_type": "code",
   "execution_count": 2,
   "metadata": {},
   "outputs": [],
   "source": [
    "# Initialize backtest object\n",
    "# Initialize portfolio object\n",
    "my_back = dfin.Backtest()\n",
    "my_port = dfin.Portfolio()"
   ]
  },
  {
   "cell_type": "code",
   "execution_count": 3,
   "metadata": {},
   "outputs": [
    {
     "data": {
      "text/plain": [
       "100000.0"
      ]
     },
     "execution_count": 3,
     "metadata": {},
     "output_type": "execute_result"
    }
   ],
   "source": [
    "# Get cash value - can also set this\n",
    "my_port.cashvalue"
   ]
  },
  {
   "cell_type": "code",
   "execution_count": 4,
   "metadata": {},
   "outputs": [],
   "source": [
    "# # load data from Alpha Vantage csv file\n",
    "# historical_df = pd.read_csv('gme_minute_data.csv', index_col='time')\n",
    "# historical_df.index = pd.to_datetime(historical_df.index)\n",
    "# historical_df.index.name = 'datetime'\n",
    "# historical_df = historical_df.sort_values(by=['datetime'])\n",
    "\n",
    "# load data from Yahoo!\n",
    "data = yf.download(tickers='AAPL', period='60d', progress=False)\n",
    "data.drop(columns=['Adj Close'])\n",
    "data.to_csv('aapl_daily_data.csv')\n",
    "historical_df = pd.read_csv('aapl_daily_data.csv', index_col='Date')"
   ]
  },
  {
   "cell_type": "code",
   "execution_count": 5,
   "metadata": {},
   "outputs": [
    {
     "name": "stdout",
     "output_type": "stream",
     "text": [
      "2021-11-15 | Short: 149.18 | Long: 148.88 | Short > Long\n",
      "\n",
      "Buying 10 shares of AAPL for 1494.2999267578125\n",
      "\n",
      "2021-11-16 | Short: 149.25 | Long: 148.91 | Short > Long\n",
      "2021-11-17 | Short: 149.37 | Long: 149.07 | Short > Long\n",
      "2021-11-18 | Short: 149.61 | Long: 149.29 | Short > Long\n",
      "2021-11-19 | Short: 150.26 | Long: 149.97 | Short > Long\n",
      "2021-11-22 | Short: 151.34 | Long: 150.85 | Short > Long\n",
      "2021-11-23 | Short: 152.24 | Long: 151.54 | Short > Long\n",
      "2021-11-24 | Short: 153.42 | Long: 152.20 | Short > Long\n",
      "2021-11-26 | Short: 154.29 | Long: 152.58 | Short > Long\n",
      "2021-11-29 | Short: 155.42 | Long: 153.16 | Short > Long\n",
      "2021-11-30 | Short: 156.47 | Long: 153.81 | Short > Long\n",
      "2021-12-01 | Short: 157.99 | Long: 154.78 | Short > Long\n",
      "2021-12-02 | Short: 158.67 | Long: 155.44 | Short > Long\n",
      "2021-12-03 | Short: 159.33 | Long: 156.24 | Short > Long\n",
      "2021-12-06 | Short: 160.11 | Long: 157.36 | Short > Long\n",
      "2021-12-07 | Short: 160.84 | Long: 158.62 | Short > Long\n",
      "2021-12-08 | Short: 162.01 | Long: 160.05 | Short > Long\n",
      "2021-12-09 | Short: 163.44 | Long: 161.58 | Short > Long\n",
      "2021-12-10 | Short: 165.27 | Long: 163.02 | Short > Long\n",
      "2021-12-13 | Short: 166.94 | Long: 164.29 | Short > Long\n",
      "2021-12-14 | Short: 168.17 | Long: 165.03 | Short > Long\n",
      "2021-12-15 | Short: 168.95 | Long: 165.92 | Short > Long\n",
      "2021-12-16 | Short: 170.24 | Long: 166.66 | Short > Long\n",
      "2021-12-17 | Short: 171.24 | Long: 167.55 | Short > Long\n",
      "2021-12-20 | Short: 171.56 | Long: 168.12 | Short > Long\n",
      "2021-12-21 | Short: 171.64 | Long: 168.74 | Short > Long\n",
      "2021-12-22 | Short: 171.78 | Long: 169.24 | Short > Long\n",
      "2021-12-23 | Short: 171.92 | Long: 170.41 | Short > Long\n",
      "2021-12-27 | Short: 172.16 | Long: 171.57 | Short > Long\n",
      "2021-12-28 | Short: 172.46 | Long: 172.52 | Short < Long\n",
      "\n",
      "Selling 10 shares of AAPL for 1785.2999877929688\n",
      "\n",
      "2021-12-29 | Short: 173.05 | Long: 173.17 | Short < Long\n",
      "2021-12-30 | Short: 173.63 | Long: 173.66 | Short < Long\n",
      "2021-12-31 | Short: 174.28 | Long: 173.88 | Short > Long\n",
      "\n",
      "Buying 10 shares of AAPL for 1772.5999450683594\n",
      "\n",
      "2022-01-03 | Short: 175.08 | Long: 174.09 | Short > Long\n",
      "2022-01-04 | Short: 176.25 | Long: 174.33 | Short > Long\n",
      "2022-01-05 | Short: 176.80 | Long: 174.49 | Short > Long\n",
      "2022-01-06 | Short: 176.75 | Long: 174.44 | Short > Long\n",
      "2022-01-07 | Short: 176.32 | Long: 174.46 | Short > Long\n",
      "2022-01-10 | Short: 175.43 | Long: 174.36 | Short > Long\n",
      "2022-01-11 | Short: 174.66 | Long: 174.58 | Short > Long\n",
      "2022-01-12 | Short: 174.33 | Long: 174.96 | Short < Long\n",
      "\n",
      "Selling 10 shares of AAPL for 1748.2000732421875\n",
      "\n",
      "2022-01-13 | Short: 173.70 | Long: 174.94 | Short < Long\n",
      "2022-01-14 | Short: 173.08 | Long: 174.66 | Short < Long\n",
      "2022-01-18 | Short: 172.25 | Long: 174.15 | Short < Long\n",
      "2022-01-19 | Short: 170.94 | Long: 173.31 | Short < Long\n",
      "2022-01-20 | Short: 169.89 | Long: 172.38 | Short < Long\n"
     ]
    }
   ],
   "source": [
    "# Process the data from the historical dataframe\n",
    "my_back.process_historical_data(historical_df,\n",
    "                                my_port,\n",
    "                                SMA_Crossover.strategy,\n",
    "                                sma_short=10,\n",
    "                                sma_long=15,\n",
    "                                share_num=10,\n",
    "                                ticker='AAPL')"
   ]
  },
  {
   "cell_type": "code",
   "execution_count": 6,
   "metadata": {},
   "outputs": [
    {
     "data": {
      "text/plain": [
       "100266.60018920898"
      ]
     },
     "execution_count": 6,
     "metadata": {},
     "output_type": "execute_result"
    }
   ],
   "source": [
    "my_port.cashvalue"
   ]
  },
  {
   "cell_type": "code",
   "execution_count": 7,
   "metadata": {},
   "outputs": [
    {
     "data": {
      "text/html": [
       "<div>\n",
       "<style scoped>\n",
       "    .dataframe tbody tr th:only-of-type {\n",
       "        vertical-align: middle;\n",
       "    }\n",
       "\n",
       "    .dataframe tbody tr th {\n",
       "        vertical-align: top;\n",
       "    }\n",
       "\n",
       "    .dataframe thead th {\n",
       "        text-align: right;\n",
       "    }\n",
       "</style>\n",
       "<table border=\"1\" class=\"dataframe\">\n",
       "  <thead>\n",
       "    <tr style=\"text-align: right;\">\n",
       "      <th></th>\n",
       "      <th>Ticker</th>\n",
       "      <th>Shares</th>\n",
       "      <th>Share Price</th>\n",
       "      <th>Dollar Amount</th>\n",
       "      <th>Buy/Sell</th>\n",
       "      <th>Transaction Datetime</th>\n",
       "    </tr>\n",
       "  </thead>\n",
       "  <tbody>\n",
       "    <tr>\n",
       "      <th>0</th>\n",
       "      <td>AAPL</td>\n",
       "      <td>10</td>\n",
       "      <td>149.429993</td>\n",
       "      <td>1494.299927</td>\n",
       "      <td>buy</td>\n",
       "      <td>2021-11-15</td>\n",
       "    </tr>\n",
       "    <tr>\n",
       "      <th>1</th>\n",
       "      <td>AAPL</td>\n",
       "      <td>-10</td>\n",
       "      <td>178.529999</td>\n",
       "      <td>-1785.299988</td>\n",
       "      <td>sell</td>\n",
       "      <td>2021-12-28</td>\n",
       "    </tr>\n",
       "    <tr>\n",
       "      <th>2</th>\n",
       "      <td>AAPL</td>\n",
       "      <td>10</td>\n",
       "      <td>177.259995</td>\n",
       "      <td>1772.599945</td>\n",
       "      <td>buy</td>\n",
       "      <td>2021-12-31</td>\n",
       "    </tr>\n",
       "    <tr>\n",
       "      <th>3</th>\n",
       "      <td>AAPL</td>\n",
       "      <td>-10</td>\n",
       "      <td>174.820007</td>\n",
       "      <td>-1748.200073</td>\n",
       "      <td>sell</td>\n",
       "      <td>2022-01-12</td>\n",
       "    </tr>\n",
       "  </tbody>\n",
       "</table>\n",
       "</div>"
      ],
      "text/plain": [
       "  Ticker  Shares  Share Price  Dollar Amount Buy/Sell Transaction Datetime\n",
       "0   AAPL      10   149.429993    1494.299927      buy           2021-11-15\n",
       "1   AAPL     -10   178.529999   -1785.299988     sell           2021-12-28\n",
       "2   AAPL      10   177.259995    1772.599945      buy           2021-12-31\n",
       "3   AAPL     -10   174.820007   -1748.200073     sell           2022-01-12"
      ]
     },
     "execution_count": 7,
     "metadata": {},
     "output_type": "execute_result"
    }
   ],
   "source": [
    "my_port.ledger()"
   ]
  },
  {
   "cell_type": "code",
   "execution_count": 8,
   "metadata": {},
   "outputs": [
    {
     "data": {
      "text/html": [
       "<div>\n",
       "<style scoped>\n",
       "    .dataframe tbody tr th:only-of-type {\n",
       "        vertical-align: middle;\n",
       "    }\n",
       "\n",
       "    .dataframe tbody tr th {\n",
       "        vertical-align: top;\n",
       "    }\n",
       "\n",
       "    .dataframe thead th {\n",
       "        text-align: right;\n",
       "    }\n",
       "</style>\n",
       "<table border=\"1\" class=\"dataframe\">\n",
       "  <thead>\n",
       "    <tr style=\"text-align: right;\">\n",
       "      <th></th>\n",
       "      <th>Ticker</th>\n",
       "      <th>Shares Held</th>\n",
       "      <th>Current Price</th>\n",
       "      <th>Current Value of Shares</th>\n",
       "    </tr>\n",
       "  </thead>\n",
       "  <tbody>\n",
       "  </tbody>\n",
       "</table>\n",
       "</div>"
      ],
      "text/plain": [
       "Empty DataFrame\n",
       "Columns: [Ticker, Shares Held, Current Price, Current Value of Shares]\n",
       "Index: []"
      ]
     },
     "execution_count": 8,
     "metadata": {},
     "output_type": "execute_result"
    }
   ],
   "source": [
    "my_port.summary_of_transactions()"
   ]
  },
  {
   "cell_type": "code",
   "execution_count": 9,
   "metadata": {},
   "outputs": [],
   "source": [
    "# Buy one share of GME for $100 - what a great price!\n",
    "my_port.buy_stock('GME', 3, 100, '2021-01-01 00:00:00')"
   ]
  },
  {
   "cell_type": "code",
   "execution_count": 10,
   "metadata": {},
   "outputs": [],
   "source": [
    "my_port.save_transactions('my_port.csv')"
   ]
  },
  {
   "cell_type": "code",
   "execution_count": 11,
   "metadata": {},
   "outputs": [
    {
     "data": {
      "text/html": [
       "<div>\n",
       "<style scoped>\n",
       "    .dataframe tbody tr th:only-of-type {\n",
       "        vertical-align: middle;\n",
       "    }\n",
       "\n",
       "    .dataframe tbody tr th {\n",
       "        vertical-align: top;\n",
       "    }\n",
       "\n",
       "    .dataframe thead th {\n",
       "        text-align: right;\n",
       "    }\n",
       "</style>\n",
       "<table border=\"1\" class=\"dataframe\">\n",
       "  <thead>\n",
       "    <tr style=\"text-align: right;\">\n",
       "      <th></th>\n",
       "      <th>Ticker</th>\n",
       "      <th>Shares Held</th>\n",
       "      <th>Current Price</th>\n",
       "      <th>Current Value of Shares</th>\n",
       "    </tr>\n",
       "  </thead>\n",
       "  <tbody>\n",
       "    <tr>\n",
       "      <th>1</th>\n",
       "      <td>GME</td>\n",
       "      <td>3</td>\n",
       "      <td>102.669998</td>\n",
       "      <td>308.009995</td>\n",
       "    </tr>\n",
       "    <tr>\n",
       "      <th>2</th>\n",
       "      <td>Totals</td>\n",
       "      <td>3</td>\n",
       "      <td>N/A</td>\n",
       "      <td>308.009995</td>\n",
       "    </tr>\n",
       "  </tbody>\n",
       "</table>\n",
       "</div>"
      ],
      "text/plain": [
       "   Ticker  Shares Held Current Price  Current Value of Shares\n",
       "1     GME            3    102.669998               308.009995\n",
       "2  Totals            3           N/A               308.009995"
      ]
     },
     "execution_count": 11,
     "metadata": {},
     "output_type": "execute_result"
    }
   ],
   "source": [
    "my_port.load_transactions('my_port.csv')\n",
    "my_port.summary_of_transactions()"
   ]
  },
  {
   "cell_type": "code",
   "execution_count": null,
   "metadata": {},
   "outputs": [],
   "source": []
  }
 ],
 "metadata": {
  "interpreter": {
   "hash": "fd1fc8df71dc487d66704bd1ed253f2c00860f37e3d3b3bbe34b5f8ddefeabbd"
  },
  "kernelspec": {
   "display_name": "Python 3.10.1 64-bit ('alpaca_env': venv)",
   "language": "python",
   "name": "python3"
  },
  "language_info": {
   "codemirror_mode": {
    "name": "ipython",
    "version": 3
   },
   "file_extension": ".py",
   "mimetype": "text/x-python",
   "name": "python",
   "nbconvert_exporter": "python",
   "pygments_lexer": "ipython3",
   "version": "3.10.1"
  },
  "orig_nbformat": 4
 },
 "nbformat": 4,
 "nbformat_minor": 2
}
