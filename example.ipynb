{
 "cells": [
  {
   "cell_type": "markdown",
   "metadata": {},
   "source": [
    "## Example Use of David's Finance Module, dfinance\n",
    "#### See it in action!\n",
    "This notebook shows an example that implements my custom finance package to backtest an (ineffective) algorithmic trading strategy."
   ]
  },
  {
   "cell_type": "code",
   "execution_count": 1,
   "metadata": {},
   "outputs": [
    {
     "ename": "ImportError",
     "evalue": "cannot import name 'Strategy_SMA_Crossover' from 'dfinance.trading_strategies' (/Users/davidfreitag/dfinance_proj/dfinance/trading_strategies/__init__.py)",
     "output_type": "error",
     "traceback": [
      "\u001b[0;31m---------------------------------------------------------------------------\u001b[0m",
      "\u001b[0;31mImportError\u001b[0m                               Traceback (most recent call last)",
      "Input \u001b[0;32mIn [1]\u001b[0m, in \u001b[0;36m<module>\u001b[0;34m\u001b[0m\n\u001b[1;32m      3\u001b[0m \u001b[38;5;28;01mimport\u001b[39;00m \u001b[38;5;21;01mnumpy\u001b[39;00m \u001b[38;5;28;01mas\u001b[39;00m \u001b[38;5;21;01mnp\u001b[39;00m\n\u001b[1;32m      5\u001b[0m \u001b[38;5;28;01mimport\u001b[39;00m \u001b[38;5;21;01mdfinance\u001b[39;00m \u001b[38;5;28;01mas\u001b[39;00m \u001b[38;5;21;01mdfin\u001b[39;00m\n\u001b[0;32m----> 6\u001b[0m \u001b[38;5;28;01mfrom\u001b[39;00m \u001b[38;5;21;01mdfinance\u001b[39;00m\u001b[38;5;21;01m.\u001b[39;00m\u001b[38;5;21;01mtrading_strategies\u001b[39;00m \u001b[38;5;28;01mimport\u001b[39;00m Strategy_SMA_Crossover\n\u001b[1;32m      8\u001b[0m get_ipython()\u001b[38;5;241m.\u001b[39mrun_line_magic(\u001b[38;5;124m'\u001b[39m\u001b[38;5;124mload_ext\u001b[39m\u001b[38;5;124m'\u001b[39m, \u001b[38;5;124m'\u001b[39m\u001b[38;5;124mautoreload\u001b[39m\u001b[38;5;124m'\u001b[39m)\n\u001b[1;32m      9\u001b[0m get_ipython()\u001b[38;5;241m.\u001b[39mrun_line_magic(\u001b[38;5;124m'\u001b[39m\u001b[38;5;124mautoreload\u001b[39m\u001b[38;5;124m'\u001b[39m, \u001b[38;5;124m'\u001b[39m\u001b[38;5;124m2\u001b[39m\u001b[38;5;124m'\u001b[39m)\n",
      "\u001b[0;31mImportError\u001b[0m: cannot import name 'Strategy_SMA_Crossover' from 'dfinance.trading_strategies' (/Users/davidfreitag/dfinance_proj/dfinance/trading_strategies/__init__.py)"
     ]
    }
   ],
   "source": [
    "import pandas as pd\n",
    "import yfinance as yf\n",
    "import numpy as np\n",
    "\n",
    "import dfinance as dfin\n",
    "from dfinance.trading_strategies import SMA_Crossover\n",
    "\n",
    "%load_ext autoreload\n",
    "%autoreload 2"
   ]
  },
  {
   "cell_type": "code",
   "execution_count": null,
   "metadata": {},
   "outputs": [],
   "source": [
    "# Initialize backtest object\n",
    "# Initialize portfolio object\n",
    "my_back = dfin.Backtest()\n",
    "my_port = dfin.Portfolio()"
   ]
  },
  {
   "cell_type": "code",
   "execution_count": null,
   "metadata": {},
   "outputs": [],
   "source": [
    "# Get cash value - can also set this\n",
    "my_port.cashvalue"
   ]
  },
  {
   "cell_type": "code",
   "execution_count": null,
   "metadata": {},
   "outputs": [],
   "source": [
    "# # load data from Alpha Vantage csv file\n",
    "# historical_df = pd.read_csv('gme_minute_data.csv', index_col='time')\n",
    "# historical_df.index = pd.to_datetime(historical_df.index)\n",
    "# historical_df.index.name = 'datetime'\n",
    "# historical_df = historical_df.sort_values(by=['datetime'])\n",
    "\n",
    "# load data from Yahoo!\n",
    "data = yf.download(tickers='AAPL', period='60d', progress=False)\n",
    "data.drop(columns=['Adj Close'])\n",
    "data.to_csv('aapl_daily_data.csv')\n",
    "historical_df = pd.read_csv('aapl_daily_data.csv', index_col='Date')"
   ]
  },
  {
   "cell_type": "code",
   "execution_count": null,
   "metadata": {},
   "outputs": [],
   "source": [
    "# Process the data from the historical dataframe\n",
    "my_back.process_historical_data(historical_df,\n",
    "                                my_port,\n",
    "                                SMA_Crossover.strategy,\n",
    "                                sma_short=10,\n",
    "                                sma_long=15,\n",
    "                                share_num=10,\n",
    "                                ticker='AAPL')"
   ]
  },
  {
   "cell_type": "code",
   "execution_count": null,
   "metadata": {},
   "outputs": [],
   "source": [
    "my_port.cashvalue"
   ]
  },
  {
   "cell_type": "code",
   "execution_count": null,
   "metadata": {},
   "outputs": [],
   "source": [
    "my_port.ledger()"
   ]
  },
  {
   "cell_type": "code",
   "execution_count": null,
   "metadata": {},
   "outputs": [],
   "source": [
    "my_port.summary_of_transactions()"
   ]
  },
  {
   "cell_type": "code",
   "execution_count": null,
   "metadata": {},
   "outputs": [],
   "source": [
    "# Buy one share of GME for $100 - what a great price!\n",
    "my_port.buy_stock('GME', 3, 100, '2021-01-01 00:00:00')"
   ]
  },
  {
   "cell_type": "code",
   "execution_count": null,
   "metadata": {},
   "outputs": [],
   "source": [
    "my_port.save_transactions('my_port.csv')"
   ]
  },
  {
   "cell_type": "code",
   "execution_count": null,
   "metadata": {},
   "outputs": [],
   "source": [
    "my_port.load_transactions('my_port.csv')\n",
    "my_port.summary_of_transactions()"
   ]
  },
  {
   "cell_type": "code",
   "execution_count": null,
   "metadata": {},
   "outputs": [],
   "source": []
  }
 ],
 "metadata": {
  "interpreter": {
   "hash": "fd1fc8df71dc487d66704bd1ed253f2c00860f37e3d3b3bbe34b5f8ddefeabbd"
  },
  "kernelspec": {
   "display_name": "Python 3.10.1 64-bit ('alpaca_env': venv)",
   "language": "python",
   "name": "python3"
  },
  "language_info": {
   "codemirror_mode": {
    "name": "ipython",
    "version": 3
   },
   "file_extension": ".py",
   "mimetype": "text/x-python",
   "name": "python",
   "nbconvert_exporter": "python",
   "pygments_lexer": "ipython3",
   "version": "3.10.1"
  },
  "orig_nbformat": 4
 },
 "nbformat": 4,
 "nbformat_minor": 2
}
