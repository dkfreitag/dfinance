{
 "cells": [
  {
   "cell_type": "markdown",
   "metadata": {},
   "source": [
    "## Example Use of David's Finance Module, dfinance\n",
    "#### See it in action!\n",
    "This notebook shows an example that implements my custom finance package to backtest an (ineffective) algorithmic trading strategy."
   ]
  },
  {
   "cell_type": "code",
   "execution_count": 17,
   "metadata": {},
   "outputs": [
    {
     "name": "stdout",
     "output_type": "stream",
     "text": [
      "The autoreload extension is already loaded. To reload it, use:\n",
      "  %reload_ext autoreload\n"
     ]
    }
   ],
   "source": [
    "import pandas as pd\n",
    "import yfinance as yf\n",
    "import numpy as np\n",
    "\n",
    "import dfinance as dfin\n",
    "from dfinance.trading_strategies import SMA_Crossover\n",
    "from dfinance.trading_strategies import PaperBracketOrder\n",
    "from dotenv import load_dotenv\n",
    "\n",
    "load_dotenv()\n",
    "\n",
    "%load_ext autoreload\n",
    "%autoreload 2"
   ]
  },
  {
   "cell_type": "code",
   "execution_count": 101,
   "metadata": {},
   "outputs": [],
   "source": [
    "my_alpaca_port = dfin.AlpacaPortfolio()\n",
    "my_back = dfin.Backtest()"
   ]
  },
  {
   "cell_type": "code",
   "execution_count": 102,
   "metadata": {},
   "outputs": [],
   "source": [
    "prefill_rows = yf.download(tickers='AAPL', period='3d', progress=False)\n"
   ]
  },
  {
   "cell_type": "code",
   "execution_count": 104,
   "metadata": {},
   "outputs": [
    {
     "name": "stdout",
     "output_type": "stream",
     "text": [
      "No prefill or invalid prefill.\n"
     ]
    },
    {
     "ename": "AttributeError",
     "evalue": "'Backtest' object has no attribute 'strategy'",
     "output_type": "error",
     "traceback": [
      "\u001b[0;31m---------------------------------------------------------------------------\u001b[0m",
      "\u001b[0;31mKeyboardInterrupt\u001b[0m                         Traceback (most recent call last)",
      "File \u001b[0;32m~/dfinance_proj/dfinance/trading_strategies/PaperBracketOrder.py:41\u001b[0m, in \u001b[0;36mstrategy\u001b[0;34m(self, my_alpaca_port, ticker, share_cnt, profit_pct, stop_pct, limit_pct)\u001b[0m\n\u001b[1;32m     40\u001b[0m         \u001b[38;5;66;03m# sleep for a time before iterating on the next row\u001b[39;00m\n\u001b[0;32m---> 41\u001b[0m         \u001b[43mtime\u001b[49m\u001b[38;5;241;43m.\u001b[39;49m\u001b[43msleep\u001b[49m\u001b[43m(\u001b[49m\u001b[38;5;241;43m600\u001b[39;49m\u001b[43m)\u001b[49m\n\u001b[1;32m     43\u001b[0m \u001b[38;5;28;01mexcept\u001b[39;00m:\n",
      "\u001b[0;31mKeyboardInterrupt\u001b[0m: ",
      "\nDuring handling of the above exception, another exception occurred:\n",
      "\u001b[0;31mAttributeError\u001b[0m                            Traceback (most recent call last)",
      "Input \u001b[0;32mIn [104]\u001b[0m, in \u001b[0;36m<module>\u001b[0;34m\u001b[0m\n\u001b[0;32m----> 1\u001b[0m \u001b[43mmy_back\u001b[49m\u001b[38;5;241;43m.\u001b[39;49m\u001b[43mprocess_live_data\u001b[49m\u001b[43m(\u001b[49m\u001b[43mprefill_rows\u001b[49m\u001b[38;5;241;43m=\u001b[39;49m\u001b[38;5;28;43;01mNone\u001b[39;49;00m\u001b[43m,\u001b[49m\n\u001b[1;32m      2\u001b[0m \u001b[43m                          \u001b[49m\u001b[43mmy_alpaca_port\u001b[49m\u001b[38;5;241;43m=\u001b[39;49m\u001b[43mmy_alpaca_port\u001b[49m\u001b[43m,\u001b[49m\n\u001b[1;32m      3\u001b[0m \u001b[43m                          \u001b[49m\u001b[43mmy_strategy\u001b[49m\u001b[38;5;241;43m=\u001b[39;49m\u001b[43mPaperBracketOrder\u001b[49m\u001b[38;5;241;43m.\u001b[39;49m\u001b[43mstrategy\u001b[49m\u001b[43m,\u001b[49m\n\u001b[1;32m      4\u001b[0m \u001b[43m                          \u001b[49m\u001b[43mticker\u001b[49m\u001b[38;5;241;43m=\u001b[39;49m\u001b[38;5;124;43m'\u001b[39;49m\u001b[38;5;124;43mAAPL\u001b[39;49m\u001b[38;5;124;43m'\u001b[39;49m\u001b[43m,\u001b[49m\n\u001b[1;32m      5\u001b[0m \u001b[43m                          \u001b[49m\u001b[43mshare_cnt\u001b[49m\u001b[38;5;241;43m=\u001b[39;49m\u001b[38;5;241;43m3\u001b[39;49m\u001b[43m,\u001b[49m\n\u001b[1;32m      6\u001b[0m \u001b[43m                          \u001b[49m\u001b[43mprofit_pct\u001b[49m\u001b[38;5;241;43m=\u001b[39;49m\u001b[38;5;241;43m1.05\u001b[39;49m\u001b[43m,\u001b[49m\n\u001b[1;32m      7\u001b[0m \u001b[43m                          \u001b[49m\u001b[43mstop_pct\u001b[49m\u001b[38;5;241;43m=\u001b[39;49m\u001b[38;5;241;43m0.95\u001b[39;49m\u001b[43m,\u001b[49m\n\u001b[1;32m      8\u001b[0m \u001b[43m                          \u001b[49m\u001b[43mlimit_pct\u001b[49m\u001b[38;5;241;43m=\u001b[39;49m\u001b[38;5;241;43m0.94\u001b[39;49m\u001b[43m)\u001b[49m\n",
      "File \u001b[0;32m~/dfinance_proj/dfinance/__init__.py:46\u001b[0m, in \u001b[0;36mBacktest.process_live_data\u001b[0;34m(self, prefill_rows, my_alpaca_port, my_strategy, **kwargs)\u001b[0m\n\u001b[1;32m     43\u001b[0m     \u001b[38;5;28mprint\u001b[39m(\u001b[38;5;124m'\u001b[39m\u001b[38;5;124mNo prefill or invalid prefill.\u001b[39m\u001b[38;5;124m'\u001b[39m)\n\u001b[1;32m     45\u001b[0m \u001b[38;5;66;03m# call my_strategy\u001b[39;00m\n\u001b[0;32m---> 46\u001b[0m \u001b[43mmy_strategy\u001b[49m\u001b[43m(\u001b[49m\u001b[38;5;28;43mself\u001b[39;49m\u001b[43m,\u001b[49m\u001b[43m \u001b[49m\u001b[43mmy_alpaca_port\u001b[49m\u001b[43m,\u001b[49m\u001b[43m \u001b[49m\u001b[38;5;241;43m*\u001b[39;49m\u001b[38;5;241;43m*\u001b[39;49m\u001b[43mkwargs\u001b[49m\u001b[43m)\u001b[49m\n",
      "File \u001b[0;32m~/dfinance_proj/dfinance/trading_strategies/PaperBracketOrder.py:44\u001b[0m, in \u001b[0;36mstrategy\u001b[0;34m(self, my_alpaca_port, ticker, share_cnt, profit_pct, stop_pct, limit_pct)\u001b[0m\n\u001b[1;32m     41\u001b[0m         time\u001b[38;5;241m.\u001b[39msleep(\u001b[38;5;241m600\u001b[39m)\n\u001b[1;32m     43\u001b[0m \u001b[38;5;28;01mexcept\u001b[39;00m:\n\u001b[0;32m---> 44\u001b[0m     \u001b[38;5;28;43mself\u001b[39;49m\u001b[38;5;241;43m.\u001b[39;49m\u001b[43mstrategy\u001b[49m(my_alpaca_port, ticker, share_cnt, profit_pct, stop_pct, limit_pct)\n",
      "\u001b[0;31mAttributeError\u001b[0m: 'Backtest' object has no attribute 'strategy'"
     ]
    }
   ],
   "source": [
    "my_back.process_live_data(prefill_rows=None,\n",
    "                          my_alpaca_port=my_alpaca_port,\n",
    "                          my_strategy=PaperBracketOrder.strategy,\n",
    "                          ticker='AAPL',\n",
    "                          share_cnt=3,\n",
    "                          profit_pct=1.05,\n",
    "                          stop_pct=0.95,\n",
    "                          limit_pct=0.94)"
   ]
  },
  {
   "cell_type": "code",
   "execution_count": 105,
   "metadata": {},
   "outputs": [
    {
     "data": {
      "text/html": [
       "<div>\n",
       "<style scoped>\n",
       "    .dataframe tbody tr th:only-of-type {\n",
       "        vertical-align: middle;\n",
       "    }\n",
       "\n",
       "    .dataframe tbody tr th {\n",
       "        vertical-align: top;\n",
       "    }\n",
       "\n",
       "    .dataframe thead th {\n",
       "        text-align: right;\n",
       "    }\n",
       "</style>\n",
       "<table border=\"1\" class=\"dataframe\">\n",
       "  <thead>\n",
       "    <tr style=\"text-align: right;\">\n",
       "      <th></th>\n",
       "      <th>Cash</th>\n",
       "      <th>Equity</th>\n",
       "      <th>Last Equity</th>\n",
       "      <th>Equity Change</th>\n",
       "      <th>Equity Change %</th>\n",
       "    </tr>\n",
       "  </thead>\n",
       "  <tbody>\n",
       "    <tr>\n",
       "      <th>0</th>\n",
       "      <td>99506.23</td>\n",
       "      <td>99997.81</td>\n",
       "      <td>100000</td>\n",
       "      <td>2.19</td>\n",
       "      <td>219.0</td>\n",
       "    </tr>\n",
       "  </tbody>\n",
       "</table>\n",
       "</div>"
      ],
      "text/plain": [
       "       Cash    Equity Last Equity  Equity Change  Equity Change %\n",
       "0  99506.23  99997.81      100000           2.19            219.0"
      ]
     },
     "execution_count": 105,
     "metadata": {},
     "output_type": "execute_result"
    }
   ],
   "source": [
    "# must call refresh() before getting status or positions\n",
    "# refresh() reloads the value of all attributes with current values\n",
    "my_alpaca_port.refresh()\n",
    "\n",
    "my_alpaca_port.get_account_status()"
   ]
  },
  {
   "cell_type": "code",
   "execution_count": 106,
   "metadata": {},
   "outputs": [
    {
     "data": {
      "text/html": [
       "<div>\n",
       "<style scoped>\n",
       "    .dataframe tbody tr th:only-of-type {\n",
       "        vertical-align: middle;\n",
       "    }\n",
       "\n",
       "    .dataframe tbody tr th {\n",
       "        vertical-align: top;\n",
       "    }\n",
       "\n",
       "    .dataframe thead th {\n",
       "        text-align: right;\n",
       "    }\n",
       "</style>\n",
       "<table border=\"1\" class=\"dataframe\">\n",
       "  <thead>\n",
       "    <tr style=\"text-align: right;\">\n",
       "      <th></th>\n",
       "      <th>Ticker</th>\n",
       "      <th>Shares Held</th>\n",
       "      <th>Cost Basis</th>\n",
       "      <th>Current Price</th>\n",
       "      <th>Unrealized Gain/Loss</th>\n",
       "      <th>Unrealized Gain/Loss %</th>\n",
       "    </tr>\n",
       "  </thead>\n",
       "  <tbody>\n",
       "    <tr>\n",
       "      <th>0</th>\n",
       "      <td>AAPL</td>\n",
       "      <td>3</td>\n",
       "      <td>490.53</td>\n",
       "      <td>163.85</td>\n",
       "      <td>1.02</td>\n",
       "      <td>0.21</td>\n",
       "    </tr>\n",
       "  </tbody>\n",
       "</table>\n",
       "</div>"
      ],
      "text/plain": [
       "  Ticker Shares Held Cost Basis Current Price Unrealized Gain/Loss  \\\n",
       "0   AAPL           3     490.53        163.85                 1.02   \n",
       "\n",
       "  Unrealized Gain/Loss %  \n",
       "0                   0.21  "
      ]
     },
     "execution_count": 106,
     "metadata": {},
     "output_type": "execute_result"
    }
   ],
   "source": [
    "my_alpaca_port.current_positions()"
   ]
  },
  {
   "cell_type": "markdown",
   "metadata": {},
   "source": [
    "---"
   ]
  },
  {
   "cell_type": "code",
   "execution_count": 107,
   "metadata": {},
   "outputs": [],
   "source": [
    "# Initialize backtest object\n",
    "# Initialize portfolio object\n",
    "my_back = dfin.Backtest()\n",
    "my_port = dfin.Portfolio()"
   ]
  },
  {
   "cell_type": "code",
   "execution_count": 108,
   "metadata": {},
   "outputs": [
    {
     "data": {
      "text/plain": [
       "100000.0"
      ]
     },
     "execution_count": 108,
     "metadata": {},
     "output_type": "execute_result"
    }
   ],
   "source": [
    "# Get cash value - can also set this\n",
    "my_port.cashvalue"
   ]
  },
  {
   "cell_type": "code",
   "execution_count": 109,
   "metadata": {},
   "outputs": [],
   "source": [
    "# load data from Yahoo!\n",
    "data = yf.download(tickers='AAPL', period='90d', progress=False)\n",
    "data.to_csv('aapl_daily_data.csv')\n",
    "historical_df = pd.read_csv('aapl_daily_data.csv', index_col='Date')"
   ]
  },
  {
   "cell_type": "code",
   "execution_count": 110,
   "metadata": {},
   "outputs": [
    {
     "name": "stdout",
     "output_type": "stream",
     "text": [
      "2021-10-05 | Short: 142.05 | Long: 142.92 | Short < Long\n",
      "2021-10-06 | Short: 141.51 | Long: 142.39 | Short < Long\n",
      "2021-10-07 | Short: 141.22 | Long: 142.09 | Short < Long\n",
      "2021-10-08 | Short: 140.92 | Long: 141.88 | Short < Long\n",
      "2021-10-11 | Short: 140.72 | Long: 141.91 | Short < Long\n",
      "2021-10-12 | Short: 140.65 | Long: 141.80 | Short < Long\n",
      "2021-10-13 | Short: 140.37 | Long: 141.50 | Short < Long\n",
      "2021-10-14 | Short: 140.39 | Long: 141.22 | Short < Long\n",
      "2021-10-15 | Short: 140.83 | Long: 141.09 | Short < Long\n",
      "2021-10-18 | Short: 141.32 | Long: 141.04 | Short > Long\n",
      "\n",
      "Buying 10 shares of AAPL for 1431.6000366210938\n",
      "\n",
      "2021-10-19 | Short: 142.04 | Long: 141.37 | Short > Long\n",
      "2021-10-20 | Short: 143.02 | Long: 141.77 | Short > Long\n",
      "2021-10-21 | Short: 143.53 | Long: 142.21 | Short > Long\n",
      "2021-10-22 | Short: 144.14 | Long: 142.85 | Short > Long\n",
      "2021-10-25 | Short: 144.72 | Long: 143.47 | Short > Long\n",
      "2021-10-26 | Short: 145.52 | Long: 144.11 | Short > Long\n",
      "2021-10-27 | Short: 146.45 | Long: 144.79 | Short > Long\n",
      "2021-10-28 | Short: 147.27 | Long: 145.25 | Short > Long\n",
      "2021-10-29 | Short: 147.56 | Long: 145.51 | Short > Long\n",
      "2021-11-01 | Short: 148.02 | Long: 145.91 | Short > Long\n",
      "2021-11-02 | Short: 148.23 | Long: 146.42 | Short > Long\n",
      "2021-11-03 | Short: 148.40 | Long: 147.13 | Short > Long\n",
      "2021-11-04 | Short: 148.68 | Long: 147.73 | Short > Long\n",
      "2021-11-05 | Short: 148.82 | Long: 148.17 | Short > Long\n",
      "2021-11-08 | Short: 149.08 | Long: 148.64 | Short > Long\n",
      "2021-11-09 | Short: 149.18 | Long: 148.87 | Short > Long\n",
      "2021-11-10 | Short: 149.12 | Long: 148.85 | Short > Long\n",
      "2021-11-11 | Short: 148.91 | Long: 148.84 | Short > Long\n",
      "2021-11-12 | Short: 149.02 | Long: 148.76 | Short > Long\n",
      "2021-11-15 | Short: 149.18 | Long: 148.88 | Short > Long\n",
      "2021-11-16 | Short: 149.25 | Long: 148.91 | Short > Long\n",
      "2021-11-17 | Short: 149.37 | Long: 149.07 | Short > Long\n",
      "2021-11-18 | Short: 149.61 | Long: 149.29 | Short > Long\n",
      "2021-11-19 | Short: 150.26 | Long: 149.97 | Short > Long\n",
      "2021-11-22 | Short: 151.34 | Long: 150.85 | Short > Long\n",
      "2021-11-23 | Short: 152.24 | Long: 151.54 | Short > Long\n",
      "2021-11-24 | Short: 153.42 | Long: 152.20 | Short > Long\n",
      "2021-11-26 | Short: 154.29 | Long: 152.58 | Short > Long\n",
      "2021-11-29 | Short: 155.42 | Long: 153.16 | Short > Long\n",
      "2021-11-30 | Short: 156.47 | Long: 153.81 | Short > Long\n",
      "2021-12-01 | Short: 157.99 | Long: 154.78 | Short > Long\n",
      "2021-12-02 | Short: 158.67 | Long: 155.44 | Short > Long\n",
      "2021-12-03 | Short: 159.33 | Long: 156.24 | Short > Long\n",
      "2021-12-06 | Short: 160.11 | Long: 157.36 | Short > Long\n",
      "2021-12-07 | Short: 160.84 | Long: 158.62 | Short > Long\n",
      "2021-12-08 | Short: 162.01 | Long: 160.05 | Short > Long\n",
      "2021-12-09 | Short: 163.44 | Long: 161.58 | Short > Long\n",
      "2021-12-10 | Short: 165.27 | Long: 163.02 | Short > Long\n",
      "2021-12-13 | Short: 166.94 | Long: 164.29 | Short > Long\n",
      "2021-12-14 | Short: 168.17 | Long: 165.03 | Short > Long\n",
      "2021-12-15 | Short: 168.95 | Long: 165.92 | Short > Long\n",
      "2021-12-16 | Short: 170.24 | Long: 166.66 | Short > Long\n",
      "2021-12-17 | Short: 171.24 | Long: 167.55 | Short > Long\n",
      "2021-12-20 | Short: 171.56 | Long: 168.12 | Short > Long\n",
      "2021-12-21 | Short: 171.64 | Long: 168.74 | Short > Long\n",
      "2021-12-22 | Short: 171.78 | Long: 169.24 | Short > Long\n",
      "2021-12-23 | Short: 171.92 | Long: 170.41 | Short > Long\n",
      "2021-12-27 | Short: 172.16 | Long: 171.57 | Short > Long\n",
      "2021-12-28 | Short: 172.46 | Long: 172.52 | Short < Long\n",
      "\n",
      "Selling 10 shares of AAPL for 1785.2999877929688\n",
      "\n",
      "2021-12-29 | Short: 173.05 | Long: 173.17 | Short < Long\n",
      "2021-12-30 | Short: 173.63 | Long: 173.66 | Short < Long\n",
      "2021-12-31 | Short: 174.28 | Long: 173.88 | Short > Long\n",
      "\n",
      "Buying 10 shares of AAPL for 1772.5999450683594\n",
      "\n",
      "2022-01-03 | Short: 175.08 | Long: 174.09 | Short > Long\n",
      "2022-01-04 | Short: 176.25 | Long: 174.33 | Short > Long\n",
      "2022-01-05 | Short: 176.80 | Long: 174.49 | Short > Long\n",
      "2022-01-06 | Short: 176.75 | Long: 174.44 | Short > Long\n",
      "2022-01-07 | Short: 176.32 | Long: 174.46 | Short > Long\n",
      "2022-01-10 | Short: 175.43 | Long: 174.36 | Short > Long\n",
      "2022-01-11 | Short: 174.66 | Long: 174.58 | Short > Long\n",
      "2022-01-12 | Short: 174.33 | Long: 174.96 | Short < Long\n",
      "\n",
      "Selling 10 shares of AAPL for 1748.2000732421875\n",
      "\n",
      "2022-01-13 | Short: 173.70 | Long: 174.94 | Short < Long\n",
      "2022-01-14 | Short: 173.08 | Long: 174.66 | Short < Long\n",
      "2022-01-18 | Short: 172.25 | Long: 174.15 | Short < Long\n",
      "2022-01-19 | Short: 170.94 | Long: 173.31 | Short < Long\n",
      "2022-01-20 | Short: 169.89 | Long: 172.38 | Short < Long\n",
      "2022-01-21 | Short: 169.02 | Long: 171.37 | Short < Long\n"
     ]
    }
   ],
   "source": [
    "# Process the data from the historical dataframe\n",
    "my_back.process_historical_data(historical_df,\n",
    "                                my_port,\n",
    "                                SMA_Crossover.strategy,\n",
    "                                sma_short=10,\n",
    "                                sma_long=15,\n",
    "                                share_num=10,\n",
    "                                ticker='AAPL')"
   ]
  },
  {
   "cell_type": "code",
   "execution_count": 111,
   "metadata": {},
   "outputs": [
    {
     "data": {
      "text/plain": [
       "100329.3000793457"
      ]
     },
     "execution_count": 111,
     "metadata": {},
     "output_type": "execute_result"
    }
   ],
   "source": [
    "my_port.cashvalue"
   ]
  },
  {
   "cell_type": "code",
   "execution_count": 112,
   "metadata": {},
   "outputs": [
    {
     "data": {
      "text/html": [
       "<div>\n",
       "<style scoped>\n",
       "    .dataframe tbody tr th:only-of-type {\n",
       "        vertical-align: middle;\n",
       "    }\n",
       "\n",
       "    .dataframe tbody tr th {\n",
       "        vertical-align: top;\n",
       "    }\n",
       "\n",
       "    .dataframe thead th {\n",
       "        text-align: right;\n",
       "    }\n",
       "</style>\n",
       "<table border=\"1\" class=\"dataframe\">\n",
       "  <thead>\n",
       "    <tr style=\"text-align: right;\">\n",
       "      <th></th>\n",
       "      <th>Ticker</th>\n",
       "      <th>Shares</th>\n",
       "      <th>Share Price</th>\n",
       "      <th>Dollar Amount</th>\n",
       "      <th>Buy/Sell</th>\n",
       "      <th>Transaction Datetime</th>\n",
       "    </tr>\n",
       "  </thead>\n",
       "  <tbody>\n",
       "    <tr>\n",
       "      <th>0</th>\n",
       "      <td>AAPL</td>\n",
       "      <td>10</td>\n",
       "      <td>143.160004</td>\n",
       "      <td>1431.600037</td>\n",
       "      <td>buy</td>\n",
       "      <td>2021-10-18</td>\n",
       "    </tr>\n",
       "    <tr>\n",
       "      <th>1</th>\n",
       "      <td>AAPL</td>\n",
       "      <td>-10</td>\n",
       "      <td>178.529999</td>\n",
       "      <td>-1785.299988</td>\n",
       "      <td>sell</td>\n",
       "      <td>2021-12-28</td>\n",
       "    </tr>\n",
       "    <tr>\n",
       "      <th>2</th>\n",
       "      <td>AAPL</td>\n",
       "      <td>10</td>\n",
       "      <td>177.259995</td>\n",
       "      <td>1772.599945</td>\n",
       "      <td>buy</td>\n",
       "      <td>2021-12-31</td>\n",
       "    </tr>\n",
       "    <tr>\n",
       "      <th>3</th>\n",
       "      <td>AAPL</td>\n",
       "      <td>-10</td>\n",
       "      <td>174.820007</td>\n",
       "      <td>-1748.200073</td>\n",
       "      <td>sell</td>\n",
       "      <td>2022-01-12</td>\n",
       "    </tr>\n",
       "  </tbody>\n",
       "</table>\n",
       "</div>"
      ],
      "text/plain": [
       "  Ticker  Shares  Share Price  Dollar Amount Buy/Sell Transaction Datetime\n",
       "0   AAPL      10   143.160004    1431.600037      buy           2021-10-18\n",
       "1   AAPL     -10   178.529999   -1785.299988     sell           2021-12-28\n",
       "2   AAPL      10   177.259995    1772.599945      buy           2021-12-31\n",
       "3   AAPL     -10   174.820007   -1748.200073     sell           2022-01-12"
      ]
     },
     "execution_count": 112,
     "metadata": {},
     "output_type": "execute_result"
    }
   ],
   "source": [
    "my_port.ledger()"
   ]
  },
  {
   "cell_type": "code",
   "execution_count": 113,
   "metadata": {},
   "outputs": [
    {
     "data": {
      "text/html": [
       "<div>\n",
       "<style scoped>\n",
       "    .dataframe tbody tr th:only-of-type {\n",
       "        vertical-align: middle;\n",
       "    }\n",
       "\n",
       "    .dataframe tbody tr th {\n",
       "        vertical-align: top;\n",
       "    }\n",
       "\n",
       "    .dataframe thead th {\n",
       "        text-align: right;\n",
       "    }\n",
       "</style>\n",
       "<table border=\"1\" class=\"dataframe\">\n",
       "  <thead>\n",
       "    <tr style=\"text-align: right;\">\n",
       "      <th></th>\n",
       "      <th>Ticker</th>\n",
       "      <th>Shares Held</th>\n",
       "      <th>Current Price</th>\n",
       "      <th>Current Value of Shares</th>\n",
       "    </tr>\n",
       "  </thead>\n",
       "  <tbody>\n",
       "  </tbody>\n",
       "</table>\n",
       "</div>"
      ],
      "text/plain": [
       "Empty DataFrame\n",
       "Columns: [Ticker, Shares Held, Current Price, Current Value of Shares]\n",
       "Index: []"
      ]
     },
     "execution_count": 113,
     "metadata": {},
     "output_type": "execute_result"
    }
   ],
   "source": [
    "my_port.current_positions()"
   ]
  },
  {
   "cell_type": "code",
   "execution_count": 114,
   "metadata": {},
   "outputs": [],
   "source": [
    "# Buy one share of GME for $100 - what a great price!\n",
    "my_port.buy_stock('GME', 3, 100, '2021-01-01 00:00:00')"
   ]
  },
  {
   "cell_type": "code",
   "execution_count": 115,
   "metadata": {},
   "outputs": [],
   "source": [
    "my_port.save_transactions('my_port.csv')"
   ]
  },
  {
   "cell_type": "code",
   "execution_count": 116,
   "metadata": {},
   "outputs": [
    {
     "data": {
      "text/html": [
       "<div>\n",
       "<style scoped>\n",
       "    .dataframe tbody tr th:only-of-type {\n",
       "        vertical-align: middle;\n",
       "    }\n",
       "\n",
       "    .dataframe tbody tr th {\n",
       "        vertical-align: top;\n",
       "    }\n",
       "\n",
       "    .dataframe thead th {\n",
       "        text-align: right;\n",
       "    }\n",
       "</style>\n",
       "<table border=\"1\" class=\"dataframe\">\n",
       "  <thead>\n",
       "    <tr style=\"text-align: right;\">\n",
       "      <th></th>\n",
       "      <th>Ticker</th>\n",
       "      <th>Shares Held</th>\n",
       "      <th>Current Price</th>\n",
       "      <th>Current Value of Shares</th>\n",
       "    </tr>\n",
       "  </thead>\n",
       "  <tbody>\n",
       "    <tr>\n",
       "      <th>1</th>\n",
       "      <td>GME</td>\n",
       "      <td>3</td>\n",
       "      <td>102.235001</td>\n",
       "      <td>306.705002</td>\n",
       "    </tr>\n",
       "    <tr>\n",
       "      <th>2</th>\n",
       "      <td>Totals</td>\n",
       "      <td>3</td>\n",
       "      <td>N/A</td>\n",
       "      <td>306.705002</td>\n",
       "    </tr>\n",
       "  </tbody>\n",
       "</table>\n",
       "</div>"
      ],
      "text/plain": [
       "   Ticker  Shares Held Current Price  Current Value of Shares\n",
       "1     GME            3    102.235001               306.705002\n",
       "2  Totals            3           N/A               306.705002"
      ]
     },
     "execution_count": 116,
     "metadata": {},
     "output_type": "execute_result"
    }
   ],
   "source": [
    "my_port.load_transactions('my_port.csv')\n",
    "my_port.current_positions()"
   ]
  },
  {
   "cell_type": "code",
   "execution_count": null,
   "metadata": {},
   "outputs": [],
   "source": []
  }
 ],
 "metadata": {
  "interpreter": {
   "hash": "fd1fc8df71dc487d66704bd1ed253f2c00860f37e3d3b3bbe34b5f8ddefeabbd"
  },
  "kernelspec": {
   "display_name": "Python 3.10.1 64-bit ('alpaca_env': venv)",
   "language": "python",
   "name": "python3"
  },
  "language_info": {
   "codemirror_mode": {
    "name": "ipython",
    "version": 3
   },
   "file_extension": ".py",
   "mimetype": "text/x-python",
   "name": "python",
   "nbconvert_exporter": "python",
   "pygments_lexer": "ipython3",
   "version": "3.10.1"
  },
  "orig_nbformat": 4
 },
 "nbformat": 4,
 "nbformat_minor": 2
}
