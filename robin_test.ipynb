{
 "cells": [
  {
   "cell_type": "code",
   "execution_count": null,
   "metadata": {},
   "outputs": [],
   "source": [
    "from robin_stocks import *\n",
    "import robin_stocks.robinhood as r\n",
    "import pyotp\n",
    "\n",
    "import os\n",
    "from dotenv import load_dotenv\n",
    "\n",
    "load_dotenv()"
   ]
  },
  {
   "cell_type": "code",
   "execution_count": null,
   "metadata": {},
   "outputs": [],
   "source": [
    "TWO_FA_CODE = os.getenv('TWO_FA_CODE')\n",
    "RH_USERNAME = os.getenv('RH_USERNAME')\n",
    "RH_PASSWORD = os.getenv('RH_PASSWORD')"
   ]
  },
  {
   "cell_type": "code",
   "execution_count": null,
   "metadata": {},
   "outputs": [],
   "source": [
    "#totp  = pyotp.TOTP(TWO_FA_CODE).now()\n",
    "\n",
    "totp = input('What is the 6 digit two-factor authentication code for Robinhood?: ')\n",
    "\n",
    "# login to Robinhood\n",
    "login = r.login(RH_USERNAME, RH_PASSWORD, mfa_code=totp)"
   ]
  },
  {
   "cell_type": "code",
   "execution_count": null,
   "metadata": {},
   "outputs": [],
   "source": [
    "r.account.build_user_profile()"
   ]
  },
  {
   "cell_type": "code",
   "execution_count": null,
   "metadata": {},
   "outputs": [],
   "source": [
    "r.profiles.load_account_profile()"
   ]
  },
  {
   "cell_type": "code",
   "execution_count": null,
   "metadata": {},
   "outputs": [],
   "source": [
    " r.orders.order_buy_fractional_by_price('HOG', 2.00)"
   ]
  },
  {
   "cell_type": "code",
   "execution_count": null,
   "metadata": {},
   "outputs": [],
   "source": [
    "r.account.build_holdings()"
   ]
  },
  {
   "cell_type": "code",
   "execution_count": null,
   "metadata": {},
   "outputs": [],
   "source": [
    "# r.orders.order_buy_fractional_by_price('AAPL', 2.00)"
   ]
  },
  {
   "cell_type": "code",
   "execution_count": null,
   "metadata": {},
   "outputs": [],
   "source": [
    "# r.orders.order_buy_fractional_by_price('MSFT', 2.00)"
   ]
  },
  {
   "cell_type": "code",
   "execution_count": null,
   "metadata": {},
   "outputs": [],
   "source": [
    "tickers = ['AAPL', 'MSFT']\n",
    "for t in tickers:\n",
    "    stock_quantity = float(r.account.build_holdings()[t]['price'])\n",
    "    print(t, stock_quantity)"
   ]
  },
  {
   "cell_type": "code",
   "execution_count": null,
   "metadata": {},
   "outputs": [],
   "source": [
    "stock_quantity = float(r.account.build_holdings()['AAPL']['quantity'])\n",
    "r.orders.order_sell_fractional_by_quantity('AAPL', stock_quantity)"
   ]
  },
  {
   "cell_type": "code",
   "execution_count": null,
   "metadata": {},
   "outputs": [],
   "source": []
  }
 ],
 "metadata": {
  "interpreter": {
   "hash": "6f7fe897ca8af54ce6bcaef56df631b7c61c214ad1194a9ce2f2566706903d5a"
  },
  "kernelspec": {
   "display_name": "Python 3.10.1 64-bit ('dfinance_proj_env': venv)",
   "language": "python",
   "name": "python3"
  },
  "language_info": {
   "codemirror_mode": {
    "name": "ipython",
    "version": 3
   },
   "file_extension": ".py",
   "mimetype": "text/x-python",
   "name": "python",
   "nbconvert_exporter": "python",
   "pygments_lexer": "ipython3",
   "version": "3.10.1"
  },
  "orig_nbformat": 4
 },
 "nbformat": 4,
 "nbformat_minor": 2
}
