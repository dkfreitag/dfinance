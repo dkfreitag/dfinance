{
 "cells": [
  {
   "cell_type": "code",
   "execution_count": 5,
   "metadata": {},
   "outputs": [
    {
     "data": {
      "text/plain": [
       "True"
      ]
     },
     "execution_count": 5,
     "metadata": {},
     "output_type": "execute_result"
    }
   ],
   "source": [
    "from robin_stocks import *\n",
    "import robin_stocks.robinhood as r\n",
    "import pyotp\n",
    "\n",
    "import os\n",
    "from dotenv import load_dotenv\n",
    "load_dotenv()"
   ]
  },
  {
   "cell_type": "code",
   "execution_count": 6,
   "metadata": {},
   "outputs": [],
   "source": [
    "TWO_FA_CODE = os.getenv('TWO_FA_CODE')\n",
    "RH_USERNAME = os.getenv('RH_USERNAME')\n",
    "RH_PASSWORD = os.getenv('RH_PASSWORD')"
   ]
  },
  {
   "cell_type": "code",
   "execution_count": 7,
   "metadata": {},
   "outputs": [],
   "source": [
    "totp  = pyotp.TOTP(TWO_FA_CODE).now()\n",
    "login = r.login(RH_USERNAME, RH_PASSWORD, mfa_code=totp)"
   ]
  },
  {
   "cell_type": "code",
   "execution_count": 9,
   "metadata": {},
   "outputs": [
    {
     "data": {
      "text/plain": [
       "{'equity': '575.9500',\n",
       " 'extended_hours_equity': '575.9500',\n",
       " 'cash': '1564.00',\n",
       " 'dividend_total': 7.92}"
      ]
     },
     "execution_count": 9,
     "metadata": {},
     "output_type": "execute_result"
    }
   ],
   "source": [
    "r.account.build_user_profile()"
   ]
  },
  {
   "cell_type": "code",
   "execution_count": null,
   "metadata": {},
   "outputs": [],
   "source": []
  }
 ],
 "metadata": {
  "interpreter": {
   "hash": "6f7fe897ca8af54ce6bcaef56df631b7c61c214ad1194a9ce2f2566706903d5a"
  },
  "kernelspec": {
   "display_name": "Python 3.10.1 64-bit ('dfinance_proj_env': venv)",
   "language": "python",
   "name": "python3"
  },
  "language_info": {
   "codemirror_mode": {
    "name": "ipython",
    "version": 3
   },
   "file_extension": ".py",
   "mimetype": "text/x-python",
   "name": "python",
   "nbconvert_exporter": "python",
   "pygments_lexer": "ipython3",
   "version": "3.10.1"
  },
  "orig_nbformat": 4
 },
 "nbformat": 4,
 "nbformat_minor": 2
}
